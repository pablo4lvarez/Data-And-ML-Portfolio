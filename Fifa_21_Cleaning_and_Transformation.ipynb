{
  "nbformat": 4,
  "nbformat_minor": 0,
  "metadata": {
    "colab": {
      "provenance": []
    },
    "kernelspec": {
      "name": "python3",
      "display_name": "Python 3"
    },
    "language_info": {
      "name": "python"
    }
  },
  "cells": [
    {
      "cell_type": "markdown",
      "source": [
        "In this notebook, i'm going to analyze a really messy dataset about the players in the videogame FIFA21. I'm focusing on cleaning and transformation on the data, based on my own analysis about the features and characteristics of the dataset."
      ],
      "metadata": {
        "id": "UMOtr7_bss_h"
      }
    },
    {
      "cell_type": "code",
      "execution_count": 1,
      "metadata": {
        "id": "Q9Hxu9EIPL0c"
      },
      "outputs": [],
      "source": [
        "import pandas as pd"
      ]
    },
    {
      "cell_type": "markdown",
      "source": [
        "# Import and view the Data"
      ],
      "metadata": {
        "id": "K0pdpDWNWr8V"
      }
    },
    {
      "cell_type": "code",
      "source": [
        "df = pd.read_csv(\"fifa21 raw data v2.csv\")\n",
        "df.head(10) # To see the first 10 elements in the dataset "
      ],
      "metadata": {
        "colab": {
          "base_uri": "https://localhost:8080/",
          "height": 718
        },
        "id": "eVNAqREEW4wF",
        "outputId": "f4bc8c4d-60f9-48cd-90cc-1b8c2ad53c3e"
      },
      "execution_count": 2,
      "outputs": [
        {
          "output_type": "stream",
          "name": "stderr",
          "text": [
            "<ipython-input-2-b2614940ecd9>:1: DtypeWarning: Columns (76) have mixed types. Specify dtype option on import or set low_memory=False.\n",
            "  df = pd.read_csv(\"fifa21 raw data v2.csv\")\n"
          ]
        },
        {
          "output_type": "execute_result",
          "data": {
            "text/plain": [
              "       ID               Name                      LongName  \\\n",
              "0  158023           L. Messi                  Lionel Messi   \n",
              "1   20801  Cristiano Ronaldo  C. Ronaldo dos Santos Aveiro   \n",
              "2  200389           J. Oblak                     Jan Oblak   \n",
              "3  192985       K. De Bruyne               Kevin De Bruyne   \n",
              "4  190871          Neymar Jr    Neymar da Silva Santos Jr.   \n",
              "5  188545     R. Lewandowski            Robert Lewandowski   \n",
              "6  209331           M. Salah                 Mohamed Salah   \n",
              "7  212831            Alisson         Alisson Ramses Becker   \n",
              "8  231747          K. Mbappé                 Kylian Mbappé   \n",
              "9  192448      M. ter Stegen         Marc-André ter Stegen   \n",
              "\n",
              "                                           photoUrl  \\\n",
              "0  https://cdn.sofifa.com/players/158/023/21_60.png   \n",
              "1  https://cdn.sofifa.com/players/020/801/21_60.png   \n",
              "2  https://cdn.sofifa.com/players/200/389/21_60.png   \n",
              "3  https://cdn.sofifa.com/players/192/985/21_60.png   \n",
              "4  https://cdn.sofifa.com/players/190/871/21_60.png   \n",
              "5  https://cdn.sofifa.com/players/188/545/21_60.png   \n",
              "6  https://cdn.sofifa.com/players/209/331/21_60.png   \n",
              "7  https://cdn.sofifa.com/players/212/831/21_60.png   \n",
              "8  https://cdn.sofifa.com/players/231/747/21_60.png   \n",
              "9  https://cdn.sofifa.com/players/192/448/21_60.png   \n",
              "\n",
              "                                           playerUrl Nationality  Age  ↓OVA  \\\n",
              "0  http://sofifa.com/player/158023/lionel-messi/2...   Argentina   33    93   \n",
              "1  http://sofifa.com/player/20801/c-ronaldo-dos-s...    Portugal   35    92   \n",
              "2  http://sofifa.com/player/200389/jan-oblak/210006/    Slovenia   27    91   \n",
              "3  http://sofifa.com/player/192985/kevin-de-bruyn...     Belgium   29    91   \n",
              "4  http://sofifa.com/player/190871/neymar-da-silv...      Brazil   28    91   \n",
              "5  http://sofifa.com/player/188545/robert-lewando...      Poland   31    91   \n",
              "6  http://sofifa.com/player/209331/mohamed-salah/...       Egypt   28    90   \n",
              "7  http://sofifa.com/player/212831/alisson-ramses...      Brazil   27    90   \n",
              "8  http://sofifa.com/player/231747/kylian-mbappe/...      France   21    90   \n",
              "9  http://sofifa.com/player/192448/marc-andre-ter...     Germany   28    90   \n",
              "\n",
              "   POT                         Club  ...     A/W     D/W   IR PAC SHO  PAS  \\\n",
              "0   93         \\n\\n\\n\\nFC Barcelona  ...  Medium     Low  5 ★  85  92   91   \n",
              "1   92             \\n\\n\\n\\nJuventus  ...    High     Low  5 ★  89  93   81   \n",
              "2   93      \\n\\n\\n\\nAtlético Madrid  ...  Medium  Medium  3 ★  87  92   78   \n",
              "3   91      \\n\\n\\n\\nManchester City  ...    High    High  4 ★  76  86   93   \n",
              "4   91  \\n\\n\\n\\nParis Saint-Germain  ...    High  Medium  5 ★  91  85   86   \n",
              "5   91    \\n\\n\\n\\nFC Bayern München  ...    High  Medium  4 ★  78  91   78   \n",
              "6   90            \\n\\n\\n\\nLiverpool  ...    High  Medium  3 ★  93  86   81   \n",
              "7   91            \\n\\n\\n\\nLiverpool  ...  Medium  Medium  3 ★  86  88   85   \n",
              "8   95  \\n\\n\\n\\nParis Saint-Germain  ...    High     Low  3 ★  96  86   78   \n",
              "9   93         \\n\\n\\n\\nFC Barcelona  ...  Medium  Medium  3 ★  88  85   88   \n",
              "\n",
              "  DRI DEF PHY  Hits  \n",
              "0  95  38  65   771  \n",
              "1  89  35  77   562  \n",
              "2  90  52  90   150  \n",
              "3  88  64  78   207  \n",
              "4  94  36  59   595  \n",
              "5  85  43  82   248  \n",
              "6  90  45  75   246  \n",
              "7  89  51  91   120  \n",
              "8  91  39  76  1.6K  \n",
              "9  90  45  88   130  \n",
              "\n",
              "[10 rows x 77 columns]"
            ],
            "text/html": [
              "\n",
              "  <div id=\"df-891446f7-f408-4a93-9eb9-98a3ae88ab9e\">\n",
              "    <div class=\"colab-df-container\">\n",
              "      <div>\n",
              "<style scoped>\n",
              "    .dataframe tbody tr th:only-of-type {\n",
              "        vertical-align: middle;\n",
              "    }\n",
              "\n",
              "    .dataframe tbody tr th {\n",
              "        vertical-align: top;\n",
              "    }\n",
              "\n",
              "    .dataframe thead th {\n",
              "        text-align: right;\n",
              "    }\n",
              "</style>\n",
              "<table border=\"1\" class=\"dataframe\">\n",
              "  <thead>\n",
              "    <tr style=\"text-align: right;\">\n",
              "      <th></th>\n",
              "      <th>ID</th>\n",
              "      <th>Name</th>\n",
              "      <th>LongName</th>\n",
              "      <th>photoUrl</th>\n",
              "      <th>playerUrl</th>\n",
              "      <th>Nationality</th>\n",
              "      <th>Age</th>\n",
              "      <th>↓OVA</th>\n",
              "      <th>POT</th>\n",
              "      <th>Club</th>\n",
              "      <th>...</th>\n",
              "      <th>A/W</th>\n",
              "      <th>D/W</th>\n",
              "      <th>IR</th>\n",
              "      <th>PAC</th>\n",
              "      <th>SHO</th>\n",
              "      <th>PAS</th>\n",
              "      <th>DRI</th>\n",
              "      <th>DEF</th>\n",
              "      <th>PHY</th>\n",
              "      <th>Hits</th>\n",
              "    </tr>\n",
              "  </thead>\n",
              "  <tbody>\n",
              "    <tr>\n",
              "      <th>0</th>\n",
              "      <td>158023</td>\n",
              "      <td>L. Messi</td>\n",
              "      <td>Lionel Messi</td>\n",
              "      <td>https://cdn.sofifa.com/players/158/023/21_60.png</td>\n",
              "      <td>http://sofifa.com/player/158023/lionel-messi/2...</td>\n",
              "      <td>Argentina</td>\n",
              "      <td>33</td>\n",
              "      <td>93</td>\n",
              "      <td>93</td>\n",
              "      <td>\\n\\n\\n\\nFC Barcelona</td>\n",
              "      <td>...</td>\n",
              "      <td>Medium</td>\n",
              "      <td>Low</td>\n",
              "      <td>5 ★</td>\n",
              "      <td>85</td>\n",
              "      <td>92</td>\n",
              "      <td>91</td>\n",
              "      <td>95</td>\n",
              "      <td>38</td>\n",
              "      <td>65</td>\n",
              "      <td>771</td>\n",
              "    </tr>\n",
              "    <tr>\n",
              "      <th>1</th>\n",
              "      <td>20801</td>\n",
              "      <td>Cristiano Ronaldo</td>\n",
              "      <td>C. Ronaldo dos Santos Aveiro</td>\n",
              "      <td>https://cdn.sofifa.com/players/020/801/21_60.png</td>\n",
              "      <td>http://sofifa.com/player/20801/c-ronaldo-dos-s...</td>\n",
              "      <td>Portugal</td>\n",
              "      <td>35</td>\n",
              "      <td>92</td>\n",
              "      <td>92</td>\n",
              "      <td>\\n\\n\\n\\nJuventus</td>\n",
              "      <td>...</td>\n",
              "      <td>High</td>\n",
              "      <td>Low</td>\n",
              "      <td>5 ★</td>\n",
              "      <td>89</td>\n",
              "      <td>93</td>\n",
              "      <td>81</td>\n",
              "      <td>89</td>\n",
              "      <td>35</td>\n",
              "      <td>77</td>\n",
              "      <td>562</td>\n",
              "    </tr>\n",
              "    <tr>\n",
              "      <th>2</th>\n",
              "      <td>200389</td>\n",
              "      <td>J. Oblak</td>\n",
              "      <td>Jan Oblak</td>\n",
              "      <td>https://cdn.sofifa.com/players/200/389/21_60.png</td>\n",
              "      <td>http://sofifa.com/player/200389/jan-oblak/210006/</td>\n",
              "      <td>Slovenia</td>\n",
              "      <td>27</td>\n",
              "      <td>91</td>\n",
              "      <td>93</td>\n",
              "      <td>\\n\\n\\n\\nAtlético Madrid</td>\n",
              "      <td>...</td>\n",
              "      <td>Medium</td>\n",
              "      <td>Medium</td>\n",
              "      <td>3 ★</td>\n",
              "      <td>87</td>\n",
              "      <td>92</td>\n",
              "      <td>78</td>\n",
              "      <td>90</td>\n",
              "      <td>52</td>\n",
              "      <td>90</td>\n",
              "      <td>150</td>\n",
              "    </tr>\n",
              "    <tr>\n",
              "      <th>3</th>\n",
              "      <td>192985</td>\n",
              "      <td>K. De Bruyne</td>\n",
              "      <td>Kevin De Bruyne</td>\n",
              "      <td>https://cdn.sofifa.com/players/192/985/21_60.png</td>\n",
              "      <td>http://sofifa.com/player/192985/kevin-de-bruyn...</td>\n",
              "      <td>Belgium</td>\n",
              "      <td>29</td>\n",
              "      <td>91</td>\n",
              "      <td>91</td>\n",
              "      <td>\\n\\n\\n\\nManchester City</td>\n",
              "      <td>...</td>\n",
              "      <td>High</td>\n",
              "      <td>High</td>\n",
              "      <td>4 ★</td>\n",
              "      <td>76</td>\n",
              "      <td>86</td>\n",
              "      <td>93</td>\n",
              "      <td>88</td>\n",
              "      <td>64</td>\n",
              "      <td>78</td>\n",
              "      <td>207</td>\n",
              "    </tr>\n",
              "    <tr>\n",
              "      <th>4</th>\n",
              "      <td>190871</td>\n",
              "      <td>Neymar Jr</td>\n",
              "      <td>Neymar da Silva Santos Jr.</td>\n",
              "      <td>https://cdn.sofifa.com/players/190/871/21_60.png</td>\n",
              "      <td>http://sofifa.com/player/190871/neymar-da-silv...</td>\n",
              "      <td>Brazil</td>\n",
              "      <td>28</td>\n",
              "      <td>91</td>\n",
              "      <td>91</td>\n",
              "      <td>\\n\\n\\n\\nParis Saint-Germain</td>\n",
              "      <td>...</td>\n",
              "      <td>High</td>\n",
              "      <td>Medium</td>\n",
              "      <td>5 ★</td>\n",
              "      <td>91</td>\n",
              "      <td>85</td>\n",
              "      <td>86</td>\n",
              "      <td>94</td>\n",
              "      <td>36</td>\n",
              "      <td>59</td>\n",
              "      <td>595</td>\n",
              "    </tr>\n",
              "    <tr>\n",
              "      <th>5</th>\n",
              "      <td>188545</td>\n",
              "      <td>R. Lewandowski</td>\n",
              "      <td>Robert Lewandowski</td>\n",
              "      <td>https://cdn.sofifa.com/players/188/545/21_60.png</td>\n",
              "      <td>http://sofifa.com/player/188545/robert-lewando...</td>\n",
              "      <td>Poland</td>\n",
              "      <td>31</td>\n",
              "      <td>91</td>\n",
              "      <td>91</td>\n",
              "      <td>\\n\\n\\n\\nFC Bayern München</td>\n",
              "      <td>...</td>\n",
              "      <td>High</td>\n",
              "      <td>Medium</td>\n",
              "      <td>4 ★</td>\n",
              "      <td>78</td>\n",
              "      <td>91</td>\n",
              "      <td>78</td>\n",
              "      <td>85</td>\n",
              "      <td>43</td>\n",
              "      <td>82</td>\n",
              "      <td>248</td>\n",
              "    </tr>\n",
              "    <tr>\n",
              "      <th>6</th>\n",
              "      <td>209331</td>\n",
              "      <td>M. Salah</td>\n",
              "      <td>Mohamed Salah</td>\n",
              "      <td>https://cdn.sofifa.com/players/209/331/21_60.png</td>\n",
              "      <td>http://sofifa.com/player/209331/mohamed-salah/...</td>\n",
              "      <td>Egypt</td>\n",
              "      <td>28</td>\n",
              "      <td>90</td>\n",
              "      <td>90</td>\n",
              "      <td>\\n\\n\\n\\nLiverpool</td>\n",
              "      <td>...</td>\n",
              "      <td>High</td>\n",
              "      <td>Medium</td>\n",
              "      <td>3 ★</td>\n",
              "      <td>93</td>\n",
              "      <td>86</td>\n",
              "      <td>81</td>\n",
              "      <td>90</td>\n",
              "      <td>45</td>\n",
              "      <td>75</td>\n",
              "      <td>246</td>\n",
              "    </tr>\n",
              "    <tr>\n",
              "      <th>7</th>\n",
              "      <td>212831</td>\n",
              "      <td>Alisson</td>\n",
              "      <td>Alisson Ramses Becker</td>\n",
              "      <td>https://cdn.sofifa.com/players/212/831/21_60.png</td>\n",
              "      <td>http://sofifa.com/player/212831/alisson-ramses...</td>\n",
              "      <td>Brazil</td>\n",
              "      <td>27</td>\n",
              "      <td>90</td>\n",
              "      <td>91</td>\n",
              "      <td>\\n\\n\\n\\nLiverpool</td>\n",
              "      <td>...</td>\n",
              "      <td>Medium</td>\n",
              "      <td>Medium</td>\n",
              "      <td>3 ★</td>\n",
              "      <td>86</td>\n",
              "      <td>88</td>\n",
              "      <td>85</td>\n",
              "      <td>89</td>\n",
              "      <td>51</td>\n",
              "      <td>91</td>\n",
              "      <td>120</td>\n",
              "    </tr>\n",
              "    <tr>\n",
              "      <th>8</th>\n",
              "      <td>231747</td>\n",
              "      <td>K. Mbappé</td>\n",
              "      <td>Kylian Mbappé</td>\n",
              "      <td>https://cdn.sofifa.com/players/231/747/21_60.png</td>\n",
              "      <td>http://sofifa.com/player/231747/kylian-mbappe/...</td>\n",
              "      <td>France</td>\n",
              "      <td>21</td>\n",
              "      <td>90</td>\n",
              "      <td>95</td>\n",
              "      <td>\\n\\n\\n\\nParis Saint-Germain</td>\n",
              "      <td>...</td>\n",
              "      <td>High</td>\n",
              "      <td>Low</td>\n",
              "      <td>3 ★</td>\n",
              "      <td>96</td>\n",
              "      <td>86</td>\n",
              "      <td>78</td>\n",
              "      <td>91</td>\n",
              "      <td>39</td>\n",
              "      <td>76</td>\n",
              "      <td>1.6K</td>\n",
              "    </tr>\n",
              "    <tr>\n",
              "      <th>9</th>\n",
              "      <td>192448</td>\n",
              "      <td>M. ter Stegen</td>\n",
              "      <td>Marc-André ter Stegen</td>\n",
              "      <td>https://cdn.sofifa.com/players/192/448/21_60.png</td>\n",
              "      <td>http://sofifa.com/player/192448/marc-andre-ter...</td>\n",
              "      <td>Germany</td>\n",
              "      <td>28</td>\n",
              "      <td>90</td>\n",
              "      <td>93</td>\n",
              "      <td>\\n\\n\\n\\nFC Barcelona</td>\n",
              "      <td>...</td>\n",
              "      <td>Medium</td>\n",
              "      <td>Medium</td>\n",
              "      <td>3 ★</td>\n",
              "      <td>88</td>\n",
              "      <td>85</td>\n",
              "      <td>88</td>\n",
              "      <td>90</td>\n",
              "      <td>45</td>\n",
              "      <td>88</td>\n",
              "      <td>130</td>\n",
              "    </tr>\n",
              "  </tbody>\n",
              "</table>\n",
              "<p>10 rows × 77 columns</p>\n",
              "</div>\n",
              "      <button class=\"colab-df-convert\" onclick=\"convertToInteractive('df-891446f7-f408-4a93-9eb9-98a3ae88ab9e')\"\n",
              "              title=\"Convert this dataframe to an interactive table.\"\n",
              "              style=\"display:none;\">\n",
              "        \n",
              "  <svg xmlns=\"http://www.w3.org/2000/svg\" height=\"24px\"viewBox=\"0 0 24 24\"\n",
              "       width=\"24px\">\n",
              "    <path d=\"M0 0h24v24H0V0z\" fill=\"none\"/>\n",
              "    <path d=\"M18.56 5.44l.94 2.06.94-2.06 2.06-.94-2.06-.94-.94-2.06-.94 2.06-2.06.94zm-11 1L8.5 8.5l.94-2.06 2.06-.94-2.06-.94L8.5 2.5l-.94 2.06-2.06.94zm10 10l.94 2.06.94-2.06 2.06-.94-2.06-.94-.94-2.06-.94 2.06-2.06.94z\"/><path d=\"M17.41 7.96l-1.37-1.37c-.4-.4-.92-.59-1.43-.59-.52 0-1.04.2-1.43.59L10.3 9.45l-7.72 7.72c-.78.78-.78 2.05 0 2.83L4 21.41c.39.39.9.59 1.41.59.51 0 1.02-.2 1.41-.59l7.78-7.78 2.81-2.81c.8-.78.8-2.07 0-2.86zM5.41 20L4 18.59l7.72-7.72 1.47 1.35L5.41 20z\"/>\n",
              "  </svg>\n",
              "      </button>\n",
              "      \n",
              "  <style>\n",
              "    .colab-df-container {\n",
              "      display:flex;\n",
              "      flex-wrap:wrap;\n",
              "      gap: 12px;\n",
              "    }\n",
              "\n",
              "    .colab-df-convert {\n",
              "      background-color: #E8F0FE;\n",
              "      border: none;\n",
              "      border-radius: 50%;\n",
              "      cursor: pointer;\n",
              "      display: none;\n",
              "      fill: #1967D2;\n",
              "      height: 32px;\n",
              "      padding: 0 0 0 0;\n",
              "      width: 32px;\n",
              "    }\n",
              "\n",
              "    .colab-df-convert:hover {\n",
              "      background-color: #E2EBFA;\n",
              "      box-shadow: 0px 1px 2px rgba(60, 64, 67, 0.3), 0px 1px 3px 1px rgba(60, 64, 67, 0.15);\n",
              "      fill: #174EA6;\n",
              "    }\n",
              "\n",
              "    [theme=dark] .colab-df-convert {\n",
              "      background-color: #3B4455;\n",
              "      fill: #D2E3FC;\n",
              "    }\n",
              "\n",
              "    [theme=dark] .colab-df-convert:hover {\n",
              "      background-color: #434B5C;\n",
              "      box-shadow: 0px 1px 3px 1px rgba(0, 0, 0, 0.15);\n",
              "      filter: drop-shadow(0px 1px 2px rgba(0, 0, 0, 0.3));\n",
              "      fill: #FFFFFF;\n",
              "    }\n",
              "  </style>\n",
              "\n",
              "      <script>\n",
              "        const buttonEl =\n",
              "          document.querySelector('#df-891446f7-f408-4a93-9eb9-98a3ae88ab9e button.colab-df-convert');\n",
              "        buttonEl.style.display =\n",
              "          google.colab.kernel.accessAllowed ? 'block' : 'none';\n",
              "\n",
              "        async function convertToInteractive(key) {\n",
              "          const element = document.querySelector('#df-891446f7-f408-4a93-9eb9-98a3ae88ab9e');\n",
              "          const dataTable =\n",
              "            await google.colab.kernel.invokeFunction('convertToInteractive',\n",
              "                                                     [key], {});\n",
              "          if (!dataTable) return;\n",
              "\n",
              "          const docLinkHtml = 'Like what you see? Visit the ' +\n",
              "            '<a target=\"_blank\" href=https://colab.research.google.com/notebooks/data_table.ipynb>data table notebook</a>'\n",
              "            + ' to learn more about interactive tables.';\n",
              "          element.innerHTML = '';\n",
              "          dataTable['output_type'] = 'display_data';\n",
              "          await google.colab.output.renderOutput(dataTable, element);\n",
              "          const docLink = document.createElement('div');\n",
              "          docLink.innerHTML = docLinkHtml;\n",
              "          element.appendChild(docLink);\n",
              "        }\n",
              "      </script>\n",
              "    </div>\n",
              "  </div>\n",
              "  "
            ]
          },
          "metadata": {},
          "execution_count": 2
        }
      ]
    },
    {
      "cell_type": "markdown",
      "source": [
        "Quickly i notice that the column named **LongName** is ambigous, so i'm going to change the name of that column to **FullName**"
      ],
      "metadata": {
        "id": "ASP55-vo7bc8"
      }
    },
    {
      "cell_type": "code",
      "source": [
        "df.rename(columns={'LongName': 'FullName'}, inplace=True)"
      ],
      "metadata": {
        "id": "Ft9iERbQ7sYz"
      },
      "execution_count": 3,
      "outputs": []
    },
    {
      "cell_type": "markdown",
      "source": [
        "Now, i want to see the datatypes of all the columns, to have an initial approach of the quality of the dataset"
      ],
      "metadata": {
        "id": "Gk57Go-JXiUe"
      }
    },
    {
      "cell_type": "code",
      "source": [
        "df.info()"
      ],
      "metadata": {
        "colab": {
          "base_uri": "https://localhost:8080/"
        },
        "id": "6MJX9ApcX6U6",
        "outputId": "96b83ccd-6b0e-43ee-b06d-7a224380b0fa"
      },
      "execution_count": 4,
      "outputs": [
        {
          "output_type": "stream",
          "name": "stdout",
          "text": [
            "<class 'pandas.core.frame.DataFrame'>\n",
            "RangeIndex: 18979 entries, 0 to 18978\n",
            "Data columns (total 77 columns):\n",
            " #   Column            Non-Null Count  Dtype \n",
            "---  ------            --------------  ----- \n",
            " 0   ID                18979 non-null  int64 \n",
            " 1   Name              18979 non-null  object\n",
            " 2   FullName          18979 non-null  object\n",
            " 3   photoUrl          18979 non-null  object\n",
            " 4   playerUrl         18979 non-null  object\n",
            " 5   Nationality       18979 non-null  object\n",
            " 6   Age               18979 non-null  int64 \n",
            " 7   ↓OVA              18979 non-null  int64 \n",
            " 8   POT               18979 non-null  int64 \n",
            " 9   Club              18979 non-null  object\n",
            " 10  Contract          18979 non-null  object\n",
            " 11  Positions         18979 non-null  object\n",
            " 12  Height            18979 non-null  object\n",
            " 13  Weight            18979 non-null  object\n",
            " 14  Preferred Foot    18979 non-null  object\n",
            " 15  BOV               18979 non-null  int64 \n",
            " 16  Best Position     18979 non-null  object\n",
            " 17  Joined            18979 non-null  object\n",
            " 18  Loan Date End     1013 non-null   object\n",
            " 19  Value             18979 non-null  object\n",
            " 20  Wage              18979 non-null  object\n",
            " 21  Release Clause    18979 non-null  object\n",
            " 22  Attacking         18979 non-null  int64 \n",
            " 23  Crossing          18979 non-null  int64 \n",
            " 24  Finishing         18979 non-null  int64 \n",
            " 25  Heading Accuracy  18979 non-null  int64 \n",
            " 26  Short Passing     18979 non-null  int64 \n",
            " 27  Volleys           18979 non-null  int64 \n",
            " 28  Skill             18979 non-null  int64 \n",
            " 29  Dribbling         18979 non-null  int64 \n",
            " 30  Curve             18979 non-null  int64 \n",
            " 31  FK Accuracy       18979 non-null  int64 \n",
            " 32  Long Passing      18979 non-null  int64 \n",
            " 33  Ball Control      18979 non-null  int64 \n",
            " 34  Movement          18979 non-null  int64 \n",
            " 35  Acceleration      18979 non-null  int64 \n",
            " 36  Sprint Speed      18979 non-null  int64 \n",
            " 37  Agility           18979 non-null  int64 \n",
            " 38  Reactions         18979 non-null  int64 \n",
            " 39  Balance           18979 non-null  int64 \n",
            " 40  Power             18979 non-null  int64 \n",
            " 41  Shot Power        18979 non-null  int64 \n",
            " 42  Jumping           18979 non-null  int64 \n",
            " 43  Stamina           18979 non-null  int64 \n",
            " 44  Strength          18979 non-null  int64 \n",
            " 45  Long Shots        18979 non-null  int64 \n",
            " 46  Mentality         18979 non-null  int64 \n",
            " 47  Aggression        18979 non-null  int64 \n",
            " 48  Interceptions     18979 non-null  int64 \n",
            " 49  Positioning       18979 non-null  int64 \n",
            " 50  Vision            18979 non-null  int64 \n",
            " 51  Penalties         18979 non-null  int64 \n",
            " 52  Composure         18979 non-null  int64 \n",
            " 53  Defending         18979 non-null  int64 \n",
            " 54  Marking           18979 non-null  int64 \n",
            " 55  Standing Tackle   18979 non-null  int64 \n",
            " 56  Sliding Tackle    18979 non-null  int64 \n",
            " 57  Goalkeeping       18979 non-null  int64 \n",
            " 58  GK Diving         18979 non-null  int64 \n",
            " 59  GK Handling       18979 non-null  int64 \n",
            " 60  GK Kicking        18979 non-null  int64 \n",
            " 61  GK Positioning    18979 non-null  int64 \n",
            " 62  GK Reflexes       18979 non-null  int64 \n",
            " 63  Total Stats       18979 non-null  int64 \n",
            " 64  Base Stats        18979 non-null  int64 \n",
            " 65  W/F               18979 non-null  object\n",
            " 66  SM                18979 non-null  object\n",
            " 67  A/W               18979 non-null  object\n",
            " 68  D/W               18979 non-null  object\n",
            " 69  IR                18979 non-null  object\n",
            " 70  PAC               18979 non-null  int64 \n",
            " 71  SHO               18979 non-null  int64 \n",
            " 72  PAS               18979 non-null  int64 \n",
            " 73  DRI               18979 non-null  int64 \n",
            " 74  DEF               18979 non-null  int64 \n",
            " 75  PHY               18979 non-null  int64 \n",
            " 76  Hits              16384 non-null  object\n",
            "dtypes: int64(54), object(23)\n",
            "memory usage: 11.1+ MB\n"
          ]
        }
      ]
    },
    {
      "cell_type": "markdown",
      "source": [
        "There are some columns that are not really useful, so i'm going to remove them from the DataFrame"
      ],
      "metadata": {
        "id": "at7MON8VDRJX"
      }
    },
    {
      "cell_type": "code",
      "source": [
        "df.drop(['photoUrl', 'playerUrl'], axis=1, inplace=True)"
      ],
      "metadata": {
        "id": "Jfne0-MRDY2g"
      },
      "execution_count": 5,
      "outputs": []
    },
    {
      "cell_type": "markdown",
      "source": [
        "Now, we can clearly see that there are some columns that does not have their ideal **datatype**, like Height and Weight. Those columns definitely should be numerical! They are relevant data of a player, that in a numerical form can be useful with machine learning algorithms, for example."
      ],
      "metadata": {
        "id": "6g8Uz7N2Y0Rp"
      }
    },
    {
      "cell_type": "markdown",
      "source": [
        "# Fixing the height and weight columns"
      ],
      "metadata": {
        "id": "gmSiMcGGankk"
      }
    },
    {
      "cell_type": "code",
      "source": [
        "pd.set_option('display.max_rows', 10) "
      ],
      "metadata": {
        "id": "j_9m6ZcZcHfk"
      },
      "execution_count": 6,
      "outputs": []
    },
    {
      "cell_type": "markdown",
      "source": [
        "Going to see the unique values to have an approach of the data."
      ],
      "metadata": {
        "id": "lkAc-Zxt6eBN"
      }
    },
    {
      "cell_type": "code",
      "source": [
        "df['Height'].unique()"
      ],
      "metadata": {
        "colab": {
          "base_uri": "https://localhost:8080/"
        },
        "id": "mv7k2ViY6dp9",
        "outputId": "9143fe3f-4f61-4aef-eb7c-2eae84fb6dfb"
      },
      "execution_count": 7,
      "outputs": [
        {
          "output_type": "execute_result",
          "data": {
            "text/plain": [
              "array(['170cm', '187cm', '188cm', '181cm', '175cm', '184cm', '191cm',\n",
              "       '178cm', '193cm', '185cm', '199cm', '173cm', '168cm', '176cm',\n",
              "       '177cm', '183cm', '180cm', '189cm', '179cm', '195cm', '172cm',\n",
              "       '182cm', '186cm', '192cm', '165cm', '194cm', '167cm', '196cm',\n",
              "       '163cm', '190cm', '174cm', '169cm', '171cm', '197cm', '200cm',\n",
              "       '166cm', '6\\'2\"', '164cm', '198cm', '6\\'3\"', '6\\'5\"', '5\\'11\"',\n",
              "       '6\\'4\"', '6\\'1\"', '6\\'0\"', '5\\'10\"', '5\\'9\"', '5\\'6\"', '5\\'7\"',\n",
              "       '5\\'4\"', '201cm', '158cm', '162cm', '161cm', '160cm', '203cm',\n",
              "       '157cm', '156cm', '202cm', '159cm', '206cm', '155cm'], dtype=object)"
            ]
          },
          "metadata": {},
          "execution_count": 7
        }
      ]
    },
    {
      "cell_type": "code",
      "source": [
        "df['Weight'].unique()"
      ],
      "metadata": {
        "colab": {
          "base_uri": "https://localhost:8080/"
        },
        "id": "PHvDd-_R6tkJ",
        "outputId": "b36e489d-97ce-45cd-dd2b-17961f0dac7a"
      },
      "execution_count": 8,
      "outputs": [
        {
          "output_type": "execute_result",
          "data": {
            "text/plain": [
              "array(['72kg', '83kg', '87kg', '70kg', '68kg', '80kg', '71kg', '91kg',\n",
              "       '73kg', '85kg', '92kg', '69kg', '84kg', '96kg', '81kg', '82kg',\n",
              "       '75kg', '86kg', '89kg', '74kg', '76kg', '64kg', '78kg', '90kg',\n",
              "       '66kg', '60kg', '94kg', '79kg', '67kg', '65kg', '59kg', '61kg',\n",
              "       '93kg', '88kg', '97kg', '77kg', '62kg', '63kg', '95kg', '100kg',\n",
              "       '58kg', '183lbs', '179lbs', '172lbs', '196lbs', '176lbs', '185lbs',\n",
              "       '170lbs', '203lbs', '168lbs', '161lbs', '146lbs', '130lbs',\n",
              "       '190lbs', '174lbs', '148lbs', '165lbs', '159lbs', '192lbs',\n",
              "       '181lbs', '139lbs', '154lbs', '157lbs', '163lbs', '98kg', '103kg',\n",
              "       '99kg', '102kg', '56kg', '101kg', '57kg', '55kg', '104kg', '107kg',\n",
              "       '110kg', '53kg', '50kg', '54kg', '52kg'], dtype=object)"
            ]
          },
          "metadata": {},
          "execution_count": 8
        }
      ]
    },
    {
      "cell_type": "markdown",
      "source": [
        "We can appreciate that for both datatypes, there is an issue with the unit of measurement. We have cm and feet in height, and kg and lbs in weight.  "
      ],
      "metadata": {
        "id": "_GC8iBm5az0y"
      }
    },
    {
      "cell_type": "markdown",
      "source": [
        "## Fix the units of measurement"
      ],
      "metadata": {
        "id": "97bI7kSM7Sz0"
      }
    },
    {
      "cell_type": "markdown",
      "source": [
        "We want to convert that data to correct formats, and also transform the datatype to integer. Thar is necessary if later i would want to apply ML algorithms to do some stuff, for example."
      ],
      "metadata": {
        "id": "-9W5LaoCA_e_"
      }
    },
    {
      "cell_type": "markdown",
      "source": [
        "I'm defining a function that convert all the height values to just the number, and if it was in lbs, makes the conversion to cm."
      ],
      "metadata": {
        "id": "_rZm7vlbAMwS"
      }
    },
    {
      "cell_type": "code",
      "source": [
        "def convert_height(x):\n",
        "    if x[-1] == '\"':\n",
        "        x = x.replace(\"\\\"\",\"\")\n",
        "        inch = int(x[2:]) * 2.54\n",
        "        foot = int(x[0]) * 30.48\n",
        "        return round(foot+inch)\n",
        "    elif x[-1] == \"m\":\n",
        "        return int(x[:-2])"
      ],
      "metadata": {
        "id": "QJPQNJ8YADRA"
      },
      "execution_count": 9,
      "outputs": []
    },
    {
      "cell_type": "code",
      "source": [
        "df.Height = df.Height.apply(convert_height)\n",
        "df.Height.unique()"
      ],
      "metadata": {
        "colab": {
          "base_uri": "https://localhost:8080/"
        },
        "id": "IHV7M-ZKAXQK",
        "outputId": "2f2fd5fd-84d4-4140-8e34-4b829e2e32b7"
      },
      "execution_count": 10,
      "outputs": [
        {
          "output_type": "execute_result",
          "data": {
            "text/plain": [
              "array([170, 187, 188, 181, 175, 184, 191, 178, 193, 185, 199, 173, 168,\n",
              "       176, 177, 183, 180, 189, 179, 195, 172, 182, 186, 192, 165, 194,\n",
              "       167, 196, 163, 190, 174, 169, 171, 197, 200, 166, 164, 198, 201,\n",
              "       158, 162, 161, 160, 203, 157, 156, 202, 159, 206, 155])"
            ]
          },
          "metadata": {},
          "execution_count": 10
        }
      ]
    },
    {
      "cell_type": "markdown",
      "source": [
        "Now, i'm going to do the same with the weight units. I'm going to define a function that converts all the possible data values."
      ],
      "metadata": {
        "id": "E1jNnIu37SWx"
      }
    },
    {
      "cell_type": "code",
      "source": [
        "def weight_kg(x):\n",
        "    if 'lbs' in x:\n",
        "        x = x.replace('lbs','')\n",
        "        x = float(x) * 0.45359237\n",
        "        x = int(x)\n",
        "        return x\n",
        "    else:\n",
        "        return int(x[:-2])"
      ],
      "metadata": {
        "id": "h56RfIuQApP2"
      },
      "execution_count": 11,
      "outputs": []
    },
    {
      "cell_type": "code",
      "source": [
        "df.Weight = df.Weight.apply(weight_kg)\n",
        "df.Weight.unique()"
      ],
      "metadata": {
        "colab": {
          "base_uri": "https://localhost:8080/"
        },
        "id": "pAQQupo0AriK",
        "outputId": "4ed74547-3df2-46e4-fc17-9af46222fc0a"
      },
      "execution_count": 12,
      "outputs": [
        {
          "output_type": "execute_result",
          "data": {
            "text/plain": [
              "array([ 72,  83,  87,  70,  68,  80,  71,  91,  73,  85,  92,  69,  84,\n",
              "        96,  81,  82,  75,  86,  89,  74,  76,  64,  78,  90,  66,  60,\n",
              "        94,  79,  67,  65,  59,  61,  93,  88,  97,  77,  62,  63,  95,\n",
              "       100,  58,  98, 103,  99, 102,  56, 101,  57,  55, 104, 107, 110,\n",
              "        53,  50,  54,  52])"
            ]
          },
          "metadata": {},
          "execution_count": 12
        }
      ]
    },
    {
      "cell_type": "markdown",
      "source": [
        "## Rename the columns"
      ],
      "metadata": {
        "id": "393Y0MKXbA-G"
      }
    },
    {
      "cell_type": "markdown",
      "source": [
        "I'm going to rename the columns to more specific names, that represents the unit of measurement that i'm going to use."
      ],
      "metadata": {
        "id": "snMAC3AsbDke"
      }
    },
    {
      "cell_type": "code",
      "source": [
        "df.rename(columns={'Height': 'Height_cm', 'Weight': 'Weight_kg'}, inplace=True)\n"
      ],
      "metadata": {
        "id": "b34q-tpdbXHB"
      },
      "execution_count": 13,
      "outputs": []
    },
    {
      "cell_type": "markdown",
      "source": [
        "# Joined column analysis"
      ],
      "metadata": {
        "id": "uCFs29XfCCvn"
      }
    },
    {
      "cell_type": "code",
      "source": [
        "df.Joined.unique()"
      ],
      "metadata": {
        "colab": {
          "base_uri": "https://localhost:8080/"
        },
        "id": "oPAkjR_JCJ9v",
        "outputId": "c066dacc-2f3b-4fbf-86de-b991acd0a36c"
      },
      "execution_count": 14,
      "outputs": [
        {
          "output_type": "execute_result",
          "data": {
            "text/plain": [
              "array(['Jul 1, 2004', 'Jul 10, 2018', 'Jul 16, 2014', ..., 'Sep 22, 2018',\n",
              "       'Feb 28, 2015', 'Mar 6, 2018'], dtype=object)"
            ]
          },
          "metadata": {},
          "execution_count": 14
        }
      ]
    },
    {
      "cell_type": "markdown",
      "source": [
        "I can see that the Joined column contains a format that is not easy to read. I should definitely transform it to a Date-type column, because that is what actually is, a date."
      ],
      "metadata": {
        "id": "06T53iZGD3VH"
      }
    },
    {
      "cell_type": "code",
      "source": [
        "df['Joined'] = pd.to_datetime(df['Joined']).dt.date"
      ],
      "metadata": {
        "id": "xNrV2C27C49C"
      },
      "execution_count": 15,
      "outputs": []
    },
    {
      "cell_type": "code",
      "source": [
        "df.Joined.head(5)"
      ],
      "metadata": {
        "colab": {
          "base_uri": "https://localhost:8080/"
        },
        "id": "uB8mGbWf-gl1",
        "outputId": "8157a13a-ad81-4206-a3f0-e65e36266a24"
      },
      "execution_count": 37,
      "outputs": [
        {
          "output_type": "execute_result",
          "data": {
            "text/plain": [
              "0    2004-07-01\n",
              "1    2018-07-10\n",
              "2    2014-07-16\n",
              "3    2015-08-30\n",
              "4    2017-08-03\n",
              "Name: Joined, dtype: object"
            ]
          },
          "metadata": {},
          "execution_count": 37
        }
      ]
    },
    {
      "cell_type": "markdown",
      "source": [
        "# Fix Club format"
      ],
      "metadata": {
        "id": "xyOL_7y1Of8J"
      }
    },
    {
      "cell_type": "markdown",
      "source": [
        "I can see that the Club information is not good, becasue all of the players contains \"\\n\" in their values of their team."
      ],
      "metadata": {
        "id": "Xu-4BPnNOnbe"
      }
    },
    {
      "cell_type": "code",
      "source": [
        "df.Club.head(5)"
      ],
      "metadata": {
        "colab": {
          "base_uri": "https://localhost:8080/"
        },
        "id": "aENsMBSmQoTw",
        "outputId": "ca4a9972-f82d-49c4-f70d-922b4bec48e7"
      },
      "execution_count": 17,
      "outputs": [
        {
          "output_type": "execute_result",
          "data": {
            "text/plain": [
              "0           \\n\\n\\n\\nFC Barcelona\n",
              "1               \\n\\n\\n\\nJuventus\n",
              "2        \\n\\n\\n\\nAtlético Madrid\n",
              "3        \\n\\n\\n\\nManchester City\n",
              "4    \\n\\n\\n\\nParis Saint-Germain\n",
              "Name: Club, dtype: object"
            ]
          },
          "metadata": {},
          "execution_count": 17
        }
      ]
    },
    {
      "cell_type": "markdown",
      "source": [
        "I'm going to create a function that removes the \\n string from the values."
      ],
      "metadata": {
        "id": "rmc6j1i4Q7s5"
      }
    },
    {
      "cell_type": "code",
      "source": [
        "def remove_newlines(df, column_name):\n",
        "    df[column_name] = df[column_name].str.replace('\\n', '')"
      ],
      "metadata": {
        "id": "cfVf2O3dRXOC"
      },
      "execution_count": 18,
      "outputs": []
    },
    {
      "cell_type": "code",
      "source": [
        "remove_newlines(df, 'Club')"
      ],
      "metadata": {
        "id": "PUrzLD4iRZ5-"
      },
      "execution_count": 19,
      "outputs": []
    },
    {
      "cell_type": "code",
      "source": [
        "df.Club.values"
      ],
      "metadata": {
        "colab": {
          "base_uri": "https://localhost:8080/"
        },
        "id": "whaKK9NyRjHd",
        "outputId": "04dd2055-9ba9-4b4f-9564-e832c3465390"
      },
      "execution_count": 20,
      "outputs": [
        {
          "output_type": "execute_result",
          "data": {
            "text/plain": [
              "array(['FC Barcelona', 'Juventus', 'Atlético Madrid', ..., 'Derry City',\n",
              "       'Dalian YiFang FC', 'Dalian YiFang FC'], dtype=object)"
            ]
          },
          "metadata": {},
          "execution_count": 20
        }
      ]
    },
    {
      "cell_type": "markdown",
      "source": [
        "# Fix money associated values"
      ],
      "metadata": {
        "id": "gPg4GCLJDu5W"
      }
    },
    {
      "cell_type": "markdown",
      "source": [
        "The columns Value, Wage, and Release Clause are all monetary values of a player."
      ],
      "metadata": {
        "id": "ZxeOT1ELEoEy"
      }
    },
    {
      "cell_type": "code",
      "source": [
        "df.iloc[:5,17:20]"
      ],
      "metadata": {
        "colab": {
          "base_uri": "https://localhost:8080/",
          "height": 206
        },
        "id": "kumATBH0Emij",
        "outputId": "55f6a9e6-e0f4-4db8-8290-328c13a8ca92"
      },
      "execution_count": 21,
      "outputs": [
        {
          "output_type": "execute_result",
          "data": {
            "text/plain": [
              "     Value   Wage Release Clause\n",
              "0  €103.5M  €560K        €138.4M\n",
              "1     €63M  €220K         €75.9M\n",
              "2    €120M  €125K        €159.4M\n",
              "3    €129M  €370K          €161M\n",
              "4    €132M  €270K        €166.5M"
            ],
            "text/html": [
              "\n",
              "  <div id=\"df-82f31ca6-e431-4dd9-86e8-86298dc86f1b\">\n",
              "    <div class=\"colab-df-container\">\n",
              "      <div>\n",
              "<style scoped>\n",
              "    .dataframe tbody tr th:only-of-type {\n",
              "        vertical-align: middle;\n",
              "    }\n",
              "\n",
              "    .dataframe tbody tr th {\n",
              "        vertical-align: top;\n",
              "    }\n",
              "\n",
              "    .dataframe thead th {\n",
              "        text-align: right;\n",
              "    }\n",
              "</style>\n",
              "<table border=\"1\" class=\"dataframe\">\n",
              "  <thead>\n",
              "    <tr style=\"text-align: right;\">\n",
              "      <th></th>\n",
              "      <th>Value</th>\n",
              "      <th>Wage</th>\n",
              "      <th>Release Clause</th>\n",
              "    </tr>\n",
              "  </thead>\n",
              "  <tbody>\n",
              "    <tr>\n",
              "      <th>0</th>\n",
              "      <td>€103.5M</td>\n",
              "      <td>€560K</td>\n",
              "      <td>€138.4M</td>\n",
              "    </tr>\n",
              "    <tr>\n",
              "      <th>1</th>\n",
              "      <td>€63M</td>\n",
              "      <td>€220K</td>\n",
              "      <td>€75.9M</td>\n",
              "    </tr>\n",
              "    <tr>\n",
              "      <th>2</th>\n",
              "      <td>€120M</td>\n",
              "      <td>€125K</td>\n",
              "      <td>€159.4M</td>\n",
              "    </tr>\n",
              "    <tr>\n",
              "      <th>3</th>\n",
              "      <td>€129M</td>\n",
              "      <td>€370K</td>\n",
              "      <td>€161M</td>\n",
              "    </tr>\n",
              "    <tr>\n",
              "      <th>4</th>\n",
              "      <td>€132M</td>\n",
              "      <td>€270K</td>\n",
              "      <td>€166.5M</td>\n",
              "    </tr>\n",
              "  </tbody>\n",
              "</table>\n",
              "</div>\n",
              "      <button class=\"colab-df-convert\" onclick=\"convertToInteractive('df-82f31ca6-e431-4dd9-86e8-86298dc86f1b')\"\n",
              "              title=\"Convert this dataframe to an interactive table.\"\n",
              "              style=\"display:none;\">\n",
              "        \n",
              "  <svg xmlns=\"http://www.w3.org/2000/svg\" height=\"24px\"viewBox=\"0 0 24 24\"\n",
              "       width=\"24px\">\n",
              "    <path d=\"M0 0h24v24H0V0z\" fill=\"none\"/>\n",
              "    <path d=\"M18.56 5.44l.94 2.06.94-2.06 2.06-.94-2.06-.94-.94-2.06-.94 2.06-2.06.94zm-11 1L8.5 8.5l.94-2.06 2.06-.94-2.06-.94L8.5 2.5l-.94 2.06-2.06.94zm10 10l.94 2.06.94-2.06 2.06-.94-2.06-.94-.94-2.06-.94 2.06-2.06.94z\"/><path d=\"M17.41 7.96l-1.37-1.37c-.4-.4-.92-.59-1.43-.59-.52 0-1.04.2-1.43.59L10.3 9.45l-7.72 7.72c-.78.78-.78 2.05 0 2.83L4 21.41c.39.39.9.59 1.41.59.51 0 1.02-.2 1.41-.59l7.78-7.78 2.81-2.81c.8-.78.8-2.07 0-2.86zM5.41 20L4 18.59l7.72-7.72 1.47 1.35L5.41 20z\"/>\n",
              "  </svg>\n",
              "      </button>\n",
              "      \n",
              "  <style>\n",
              "    .colab-df-container {\n",
              "      display:flex;\n",
              "      flex-wrap:wrap;\n",
              "      gap: 12px;\n",
              "    }\n",
              "\n",
              "    .colab-df-convert {\n",
              "      background-color: #E8F0FE;\n",
              "      border: none;\n",
              "      border-radius: 50%;\n",
              "      cursor: pointer;\n",
              "      display: none;\n",
              "      fill: #1967D2;\n",
              "      height: 32px;\n",
              "      padding: 0 0 0 0;\n",
              "      width: 32px;\n",
              "    }\n",
              "\n",
              "    .colab-df-convert:hover {\n",
              "      background-color: #E2EBFA;\n",
              "      box-shadow: 0px 1px 2px rgba(60, 64, 67, 0.3), 0px 1px 3px 1px rgba(60, 64, 67, 0.15);\n",
              "      fill: #174EA6;\n",
              "    }\n",
              "\n",
              "    [theme=dark] .colab-df-convert {\n",
              "      background-color: #3B4455;\n",
              "      fill: #D2E3FC;\n",
              "    }\n",
              "\n",
              "    [theme=dark] .colab-df-convert:hover {\n",
              "      background-color: #434B5C;\n",
              "      box-shadow: 0px 1px 3px 1px rgba(0, 0, 0, 0.15);\n",
              "      filter: drop-shadow(0px 1px 2px rgba(0, 0, 0, 0.3));\n",
              "      fill: #FFFFFF;\n",
              "    }\n",
              "  </style>\n",
              "\n",
              "      <script>\n",
              "        const buttonEl =\n",
              "          document.querySelector('#df-82f31ca6-e431-4dd9-86e8-86298dc86f1b button.colab-df-convert');\n",
              "        buttonEl.style.display =\n",
              "          google.colab.kernel.accessAllowed ? 'block' : 'none';\n",
              "\n",
              "        async function convertToInteractive(key) {\n",
              "          const element = document.querySelector('#df-82f31ca6-e431-4dd9-86e8-86298dc86f1b');\n",
              "          const dataTable =\n",
              "            await google.colab.kernel.invokeFunction('convertToInteractive',\n",
              "                                                     [key], {});\n",
              "          if (!dataTable) return;\n",
              "\n",
              "          const docLinkHtml = 'Like what you see? Visit the ' +\n",
              "            '<a target=\"_blank\" href=https://colab.research.google.com/notebooks/data_table.ipynb>data table notebook</a>'\n",
              "            + ' to learn more about interactive tables.';\n",
              "          element.innerHTML = '';\n",
              "          dataTable['output_type'] = 'display_data';\n",
              "          await google.colab.output.renderOutput(dataTable, element);\n",
              "          const docLink = document.createElement('div');\n",
              "          docLink.innerHTML = docLinkHtml;\n",
              "          element.appendChild(docLink);\n",
              "        }\n",
              "      </script>\n",
              "    </div>\n",
              "  </div>\n",
              "  "
            ]
          },
          "metadata": {},
          "execution_count": 21
        }
      ]
    },
    {
      "cell_type": "markdown",
      "source": [
        "These are all string values, because containts the coin (€). I'm going to transform those variables to integers. To do that, i'm going to define a function to transform the values and then rename the columns to a more specific name."
      ],
      "metadata": {
        "id": "LAI8qVLFFRti"
      }
    },
    {
      "cell_type": "code",
      "source": [
        "def calc_value(x):\n",
        "    if 'M' in x:\n",
        "        x = x.replace('M', '')\n",
        "        x = float(x[1:]) * 1000000\n",
        "        return round(x)\n",
        "    elif \"K\" in x:\n",
        "        x = x.replace('K', '')\n",
        "        x = float(x[1:]) * 1000\n",
        "        return round(x)\n",
        "    else:\n",
        "        return int(x[1:])"
      ],
      "metadata": {
        "id": "_FBo_WBnGLrB"
      },
      "execution_count": 22,
      "outputs": []
    },
    {
      "cell_type": "code",
      "source": [
        "df['Value'] = df['Value'].apply(calc_value)\n",
        "df['Wage'] = df['Wage'].apply(calc_value)\n",
        "df['Release Clause'] = df['Release Clause'].apply(calc_value)"
      ],
      "metadata": {
        "id": "MA6kVhLZGOLU"
      },
      "execution_count": 23,
      "outputs": []
    },
    {
      "cell_type": "code",
      "source": [
        "df.rename(columns={'Value': 'Value_€', 'Wage': 'Wage_€', 'Release Clause': 'Release_Clause_€'}, inplace=True)"
      ],
      "metadata": {
        "id": "3boWxyVqGoWt"
      },
      "execution_count": 24,
      "outputs": []
    },
    {
      "cell_type": "markdown",
      "source": [
        "# Handling Missing Values"
      ],
      "metadata": {
        "id": "SKP3GbjaHsA8"
      }
    },
    {
      "cell_type": "markdown",
      "source": [
        "First, i'm going to see if some columns have a lot of null or missing values."
      ],
      "metadata": {
        "id": "0P5lAAEhHzZO"
      }
    },
    {
      "cell_type": "code",
      "source": [
        "pd.set_option('display.max_rows', None)\n",
        "missing_values_count = df.isnull().sum()\n",
        "missing_values_count"
      ],
      "metadata": {
        "colab": {
          "base_uri": "https://localhost:8080/"
        },
        "id": "4kHCPKZRHyuk",
        "outputId": "0942a4fa-6f44-4932-ba50-8625413bdd37"
      },
      "execution_count": 25,
      "outputs": [
        {
          "output_type": "execute_result",
          "data": {
            "text/plain": [
              "ID                      0\n",
              "Name                    0\n",
              "FullName                0\n",
              "Nationality             0\n",
              "Age                     0\n",
              "↓OVA                    0\n",
              "POT                     0\n",
              "Club                    0\n",
              "Contract                0\n",
              "Positions               0\n",
              "Height_cm               0\n",
              "Weight_kg               0\n",
              "Preferred Foot          0\n",
              "BOV                     0\n",
              "Best Position           0\n",
              "Joined                  0\n",
              "Loan Date End       17966\n",
              "Value_€                 0\n",
              "Wage_€                  0\n",
              "Release_Clause_€        0\n",
              "Attacking               0\n",
              "Crossing                0\n",
              "Finishing               0\n",
              "Heading Accuracy        0\n",
              "Short Passing           0\n",
              "Volleys                 0\n",
              "Skill                   0\n",
              "Dribbling               0\n",
              "Curve                   0\n",
              "FK Accuracy             0\n",
              "Long Passing            0\n",
              "Ball Control            0\n",
              "Movement                0\n",
              "Acceleration            0\n",
              "Sprint Speed            0\n",
              "Agility                 0\n",
              "Reactions               0\n",
              "Balance                 0\n",
              "Power                   0\n",
              "Shot Power              0\n",
              "Jumping                 0\n",
              "Stamina                 0\n",
              "Strength                0\n",
              "Long Shots              0\n",
              "Mentality               0\n",
              "Aggression              0\n",
              "Interceptions           0\n",
              "Positioning             0\n",
              "Vision                  0\n",
              "Penalties               0\n",
              "Composure               0\n",
              "Defending               0\n",
              "Marking                 0\n",
              "Standing Tackle         0\n",
              "Sliding Tackle          0\n",
              "Goalkeeping             0\n",
              "GK Diving               0\n",
              "GK Handling             0\n",
              "GK Kicking              0\n",
              "GK Positioning          0\n",
              "GK Reflexes             0\n",
              "Total Stats             0\n",
              "Base Stats              0\n",
              "W/F                     0\n",
              "SM                      0\n",
              "A/W                     0\n",
              "D/W                     0\n",
              "IR                      0\n",
              "PAC                     0\n",
              "SHO                     0\n",
              "PAS                     0\n",
              "DRI                     0\n",
              "DEF                     0\n",
              "PHY                     0\n",
              "Hits                 2595\n",
              "dtype: int64"
            ]
          },
          "metadata": {},
          "execution_count": 25
        }
      ]
    },
    {
      "cell_type": "code",
      "source": [
        "# Set back the diplay default value to 10\n",
        "pd.set_option('display.max_rows', 10)"
      ],
      "metadata": {
        "id": "Nu98RrLhIjzS"
      },
      "execution_count": 26,
      "outputs": []
    },
    {
      "cell_type": "markdown",
      "source": [
        "We have that the **Loan Date End**, and the **Hits** columns have some null values. Lets see both of them with more detail:"
      ],
      "metadata": {
        "id": "8K0PryBBIwvY"
      }
    },
    {
      "cell_type": "code",
      "source": [
        "df.Hits.unique()"
      ],
      "metadata": {
        "colab": {
          "base_uri": "https://localhost:8080/"
        },
        "id": "mEsPI4y8JHFy",
        "outputId": "303c7f30-c214-4413-85fe-7af81876e721"
      },
      "execution_count": 27,
      "outputs": [
        {
          "output_type": "execute_result",
          "data": {
            "text/plain": [
              "array(['771', '562', '150', '207', '595', '248', '246', '120', '1.6K',\n",
              "       '130', '321', '189', '175', '96', '118', '216', '212', '154',\n",
              "       '205', '202', '339', '408', '103', '332', '86', '173', '161',\n",
              "       '396', '1.1K', '433', '242', '206', '177', '1.5K', '198', '459',\n",
              "       '117', '119', '209', '84', '187', '165', '203', '65', '336', '126',\n",
              "       '313', '124', '145', '538', '182', '101', '45', '377', '99', '194',\n",
              "       '403', '414', '593', '374', '245', '3.2K', '266', '299', '309',\n",
              "       '215', '265', '211', '112', '337', '70', '159', '688', '116', '63',\n",
              "       '144', '123', '71', '224', '113', '168', '61', '89', '137', '278',\n",
              "       '75', '148', '176', '197', '264', '214', '247', '402', '440',\n",
              "       '1.7K', '2.3K', '171', '320', '657', '87', '259', '200', '255',\n",
              "       '253', '196', '60', '97', '85', '169', '256', '132', '239', '166',\n",
              "       '121', '109', '32', '46', '122', '48', '527', '199', '282', '51',\n",
              "       '1.9K', '642', '155', '323', '288', '497', '509', '79', '49',\n",
              "       '270', '511', '80', '128', '115', '156', '204', '143', '140',\n",
              "       '152', '220', '134', '225', '94', '74', '135', '142', '50', '77',\n",
              "       '40', '107', '193', '179', '34', '64', '453', '57', '81', '28',\n",
              "       '78', '133', '43', '425', '88', '42', '36', '233', '376', '210',\n",
              "       '444', '100', '263', '98', '29', '160', '39', '257', '6', '310',\n",
              "       '138', '62', '293', '285', '362', '66', '69', '58', '21', '20',\n",
              "       '131', '38', '406', '68', '108', '110', '93', '512', '443', '306',\n",
              "       '352', '422', '585', '346', '178', '841', '76', '394', '72', '172',\n",
              "       '44', '407', '230', '367', '295', '157', '243', '56', '111', '326',\n",
              "       '679', '18', '92', '59', '25', '184', '53', '12', '90', '55', '73',\n",
              "       '11', '566', '180', '83', '262', '17', '26', '31', '280', '359',\n",
              "       '213', '297', '387', '480', '381', '677', '486', '8', '244', '129',\n",
              "       '388', '275', '319', '2K', '52', '91', '421', '153', '27', '41',\n",
              "       '222', '35', '102', '23', '30', '33', '146', '13', '19', '14',\n",
              "       '106', '276', '568', '353', '47', '478', '249', '254', '369',\n",
              "       '219', '565', '237', '227', '434', '375', '162', '605', '654', '3',\n",
              "       '7', '9', '104', '114', '186', '446', '756', '22', '139', '500',\n",
              "       '67', '147', '149', '16', '82', '54', '37', '15', '1.3K', '3K',\n",
              "       '952', '5', '749', '541', '330', '393', '517', '770', '409', '170',\n",
              "       '125', '283', '342', '363', '580', '105', '217', '24', '141', '10',\n",
              "       '427', '158', '426', '4', '666', '181', '324', '979', '1.4K',\n",
              "       '302', '751', '298', '411', '944', '2', '947', '292', '349', '621',\n",
              "       '1', '2.8K', '338', '287', '261', '218', '1.8K', '240', '279',\n",
              "       '229', '188', '315', '664', '613', '190', '706', '127', '462',\n",
              "       '386', '695', '491', '167', '281', '250', '307', '95', '231',\n",
              "       '174', '680', '633', '221', '348', '602', '183', '653', '195',\n",
              "       '164', '151', '258', '8.4K', '343', '419', '655', '136', '399',\n",
              "       '531', '357', '228', '385', '312', '340', '238', '487', '355',\n",
              "       '499', '4.3K', '296', '515', '943', '1.2K', '903', '335', '191',\n",
              "       '594', '267', '617', '516', '504', '331', '652', '410', '550',\n",
              "       '473', '442', '344', '208', '1K', '2.5K', '273', '485', '826',\n",
              "       '192', '405', '941', '477', '644', '303', '417', '6K', nan, 11.0,\n",
              "       2.0, 1.0, 31.0, 3.0, 10.0, 9.0, 17.0, 7.0, 4.0, 6.0], dtype=object)"
            ]
          },
          "metadata": {},
          "execution_count": 27
        }
      ]
    },
    {
      "cell_type": "code",
      "source": [
        "df['Loan Date End'].unique()"
      ],
      "metadata": {
        "colab": {
          "base_uri": "https://localhost:8080/"
        },
        "id": "LOVo4vKIKR_C",
        "outputId": "00b17d7f-28d8-4059-b88e-1edd0ccc3491"
      },
      "execution_count": 28,
      "outputs": [
        {
          "output_type": "execute_result",
          "data": {
            "text/plain": [
              "array([nan, 'Jun 30, 2021', 'Dec 31, 2020', 'Jan 30, 2021',\n",
              "       'Jun 30, 2022', 'May 31, 2021', 'Jul 5, 2021', 'Dec 31, 2021',\n",
              "       'Jul 1, 2021', 'Jan 1, 2021', 'Aug 31, 2021', 'Jan 31, 2021',\n",
              "       'Dec 30, 2021', 'Jun 23, 2021', 'Jan 3, 2021', 'Nov 27, 2021',\n",
              "       'Jan 17, 2021', 'Jun 30, 2023', 'Jul 31, 2021', 'Nov 22, 2020',\n",
              "       'May 31, 2022', 'Dec 30, 2020', 'Jan 4, 2021', 'Nov 30, 2020',\n",
              "       'Aug 1, 2021'], dtype=object)"
            ]
          },
          "metadata": {},
          "execution_count": 28
        }
      ]
    },
    {
      "cell_type": "markdown",
      "source": [
        "* In the case of Hits, it is a continuous variable, with a lot of null values that should be filled. So, i'm going to fill those values with zero, and then apply a function that transform accordly the data.\n",
        "* In the case of Loan Date End, for a lot of players this information does not exist, because they are not in loan. So, i'm just going to left that nan values."
      ],
      "metadata": {
        "id": "iDGcSrGiKdmC"
      }
    },
    {
      "cell_type": "markdown",
      "source": [
        "## Fix Hits"
      ],
      "metadata": {
        "id": "1eUslkz5L5D5"
      }
    },
    {
      "cell_type": "code",
      "source": [
        "# Fill the na with 0\n",
        "df.Hits.fillna(0)"
      ],
      "metadata": {
        "colab": {
          "base_uri": "https://localhost:8080/"
        },
        "id": "0qn09DhLL6Zz",
        "outputId": "8bae0861-df3f-476f-e6e1-41123418fe36"
      },
      "execution_count": 29,
      "outputs": [
        {
          "output_type": "execute_result",
          "data": {
            "text/plain": [
              "0        771\n",
              "1        562\n",
              "2        150\n",
              "3        207\n",
              "4        595\n",
              "        ... \n",
              "18974      0\n",
              "18975      0\n",
              "18976      0\n",
              "18977      0\n",
              "18978      0\n",
              "Name: Hits, Length: 18979, dtype: object"
            ]
          },
          "metadata": {},
          "execution_count": 29
        }
      ]
    },
    {
      "cell_type": "code",
      "source": [
        "# define a function to replace K with an empty string and turn the value to a float so it can be added to 1000\n",
        "def hitchange(h):\n",
        "  if isinstance(h, str) and \"K\" in h:\n",
        "        h = h.replace('K', \"\")\n",
        "        h = float(h) * 1000\n",
        "        return round(h)\n",
        "  else:\n",
        "      return h\n"
      ],
      "metadata": {
        "id": "HxeAjUyHMb-O"
      },
      "execution_count": 30,
      "outputs": []
    },
    {
      "cell_type": "code",
      "source": [
        "# apply it to the Hits colum\n",
        "df.Hits = df.Hits.apply(hitchange)"
      ],
      "metadata": {
        "id": "qgNaUyJkMxyz"
      },
      "execution_count": 31,
      "outputs": []
    },
    {
      "cell_type": "code",
      "source": [
        "df.Hits.unique()"
      ],
      "metadata": {
        "colab": {
          "base_uri": "https://localhost:8080/"
        },
        "id": "WqJy47btNT6a",
        "outputId": "dc48f832-2c07-4b1c-9912-0d9eaca8363d"
      },
      "execution_count": 32,
      "outputs": [
        {
          "output_type": "execute_result",
          "data": {
            "text/plain": [
              "array(['771', '562', '150', '207', '595', '248', '246', '120', 1600,\n",
              "       '130', '321', '189', '175', '96', '118', '216', '212', '154',\n",
              "       '205', '202', '339', '408', '103', '332', '86', '173', '161',\n",
              "       '396', 1100, '433', '242', '206', '177', 1500, '198', '459', '117',\n",
              "       '119', '209', '84', '187', '165', '203', '65', '336', '126', '313',\n",
              "       '124', '145', '538', '182', '101', '45', '377', '99', '194', '403',\n",
              "       '414', '593', '374', '245', 3200, '266', '299', '309', '215',\n",
              "       '265', '211', '112', '337', '70', '159', '688', '116', '63', '144',\n",
              "       '123', '71', '224', '113', '168', '61', '89', '137', '278', '75',\n",
              "       '148', '176', '197', '264', '214', '247', '402', '440', 1700, 2300,\n",
              "       '171', '320', '657', '87', '259', '200', '255', '253', '196', '60',\n",
              "       '97', '85', '169', '256', '132', '239', '166', '121', '109', '32',\n",
              "       '46', '122', '48', '527', '199', '282', '51', 1900, '642', '155',\n",
              "       '323', '288', '497', '509', '79', '49', '270', '511', '80', '128',\n",
              "       '115', '156', '204', '143', '140', '152', '220', '134', '225',\n",
              "       '94', '74', '135', '142', '50', '77', '40', '107', '193', '179',\n",
              "       '34', '64', '453', '57', '81', '28', '78', '133', '43', '425',\n",
              "       '88', '42', '36', '233', '376', '210', '444', '100', '263', '98',\n",
              "       '29', '160', '39', '257', '6', '310', '138', '62', '293', '285',\n",
              "       '362', '66', '69', '58', '21', '20', '131', '38', '406', '68',\n",
              "       '108', '110', '93', '512', '443', '306', '352', '422', '585',\n",
              "       '346', '178', '841', '76', '394', '72', '172', '44', '407', '230',\n",
              "       '367', '295', '157', '243', '56', '111', '326', '679', '18', '92',\n",
              "       '59', '25', '184', '53', '12', '90', '55', '73', '11', '566',\n",
              "       '180', '83', '262', '17', '26', '31', '280', '359', '213', '297',\n",
              "       '387', '480', '381', '677', '486', '8', '244', '129', '388', '275',\n",
              "       '319', 2000, '52', '91', '421', '153', '27', '41', '222', '35',\n",
              "       '102', '23', '30', '33', '146', '13', '19', '14', '106', '276',\n",
              "       '568', '353', '47', '478', '249', '254', '369', '219', '565',\n",
              "       '237', '227', '434', '375', '162', '605', '654', '3', '7', '9',\n",
              "       '104', '114', '186', '446', '756', '22', '139', '500', '67', '147',\n",
              "       '149', '16', '82', '54', '37', '15', 1300, 3000, '952', '5', '749',\n",
              "       '541', '330', '393', '517', '770', '409', '170', '125', '283',\n",
              "       '342', '363', '580', '105', '217', '24', '141', '10', '427', '158',\n",
              "       '426', '4', '666', '181', '324', '979', 1400, '302', '751', '298',\n",
              "       '411', '944', '2', '947', '292', '349', '621', '1', 2800, '338',\n",
              "       '287', '261', '218', 1800, '240', '279', '229', '188', '315',\n",
              "       '664', '613', '190', '706', '127', '462', '386', '695', '491',\n",
              "       '167', '281', '250', '307', '95', '231', '174', '680', '633',\n",
              "       '221', '348', '602', '183', '653', '195', '164', '151', '258',\n",
              "       8400, '343', '419', '655', '136', '399', '531', '357', '228',\n",
              "       '385', '312', '340', '238', '487', '355', '499', 4300, '296',\n",
              "       '515', '943', 1200, '903', '335', '191', '594', '267', '617',\n",
              "       '516', '504', '331', '652', '410', '550', '473', '442', '344',\n",
              "       '208', 1000, 2500, '273', '485', '826', '192', '405', '941', '477',\n",
              "       '644', '303', '417', 6000, nan, 11.0, 2.0, 1.0, 31.0, 3.0, 10.0,\n",
              "       9.0, 17.0, 7.0, 4.0, 6.0], dtype=object)"
            ]
          },
          "metadata": {},
          "execution_count": 32
        }
      ]
    },
    {
      "cell_type": "markdown",
      "source": [
        "# Fix the Star characters in IR"
      ],
      "metadata": {
        "id": "E-Oz47OIPHZO"
      }
    },
    {
      "cell_type": "markdown",
      "source": [
        "The IR column is a rating based on stars. If we see carefully, all the values in the column have a number and then a star character."
      ],
      "metadata": {
        "id": "q8Ce280wPLRg"
      }
    },
    {
      "cell_type": "code",
      "source": [
        "df.IR.head(5)"
      ],
      "metadata": {
        "colab": {
          "base_uri": "https://localhost:8080/"
        },
        "id": "nynTF0vUPUuP",
        "outputId": "61d686e6-e656-4919-8a8c-78e8e187f42d"
      },
      "execution_count": 33,
      "outputs": [
        {
          "output_type": "execute_result",
          "data": {
            "text/plain": [
              "0    5 ★\n",
              "1    5 ★\n",
              "2    3 ★\n",
              "3    4 ★\n",
              "4    5 ★\n",
              "Name: IR, dtype: object"
            ]
          },
          "metadata": {},
          "execution_count": 33
        }
      ]
    },
    {
      "cell_type": "markdown",
      "source": [
        "I'm going to remove the star and transform it into an integer value."
      ],
      "metadata": {
        "id": "PJcS5jElPYxu"
      }
    },
    {
      "cell_type": "code",
      "source": [
        "def remove_stars(df, column_name):\n",
        "    df[column_name] = df[column_name].str.replace('★', '')"
      ],
      "metadata": {
        "id": "sVaZr27vPgPK"
      },
      "execution_count": 34,
      "outputs": []
    },
    {
      "cell_type": "code",
      "source": [
        "remove_stars(df, 'IR')"
      ],
      "metadata": {
        "id": "namrq_xFP87F"
      },
      "execution_count": 35,
      "outputs": []
    },
    {
      "cell_type": "code",
      "source": [
        "df.IR.astype('int64')"
      ],
      "metadata": {
        "colab": {
          "base_uri": "https://localhost:8080/"
        },
        "id": "dd32wUVFQAiV",
        "outputId": "7ac572d2-22f6-4a95-8912-d929bcce8f03"
      },
      "execution_count": 36,
      "outputs": [
        {
          "output_type": "execute_result",
          "data": {
            "text/plain": [
              "0        5\n",
              "1        5\n",
              "2        3\n",
              "3        4\n",
              "4        5\n",
              "        ..\n",
              "18974    1\n",
              "18975    1\n",
              "18976    1\n",
              "18977    1\n",
              "18978    1\n",
              "Name: IR, Length: 18979, dtype: int64"
            ]
          },
          "metadata": {},
          "execution_count": 36
        }
      ]
    }
  ]
}