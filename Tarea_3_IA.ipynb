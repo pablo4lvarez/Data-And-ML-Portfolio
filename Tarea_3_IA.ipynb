{
  "cells": [
    {
      "cell_type": "markdown",
      "metadata": {
        "id": "VDPvoTmdHPhm"
      },
      "source": [
        "# Tarea 3 Inteligencia Artificial 2023-1"
      ]
    },
    {
      "cell_type": "code",
      "execution_count": null,
      "metadata": {
        "id": "3yJn5rCZ4OKA"
      },
      "outputs": [],
      "source": [
        "!gdown 1ZV_nCUfuitYz0vpKFhg5wdwz_LlaVQVo\n",
        "!unzip 'Avengers 1.zip'"
      ]
    },
    {
      "cell_type": "code",
      "execution_count": null,
      "metadata": {
        "id": "hdGnoIcV4spD"
      },
      "outputs": [],
      "source": [
        "!pip install face_recognition"
      ]
    },
    {
      "cell_type": "code",
      "execution_count": null,
      "metadata": {
        "id": "sKr5vF384gcJ"
      },
      "outputs": [],
      "source": [
        "import pandas as pd\n",
        "\n",
        "#Clase que utilizaremos para un clasificador SVM\n",
        "from sklearn.svm import SVC\n",
        "#Clase que utilizaremos para un clasificador Bayesiano ingenuo\n",
        "from sklearn.naive_bayes import GaussianNB\n",
        "#Clase que utilizaremos para un clasificador de arbol de decision\n",
        "from sklearn.tree import DecisionTreeClassifier"
      ]
    },
    {
      "cell_type": "markdown",
      "metadata": {
        "id": "t3gmFg8l9vBA"
      },
      "source": [
        "#Actividad 1 - Carga de datos y análisis"
      ]
    },
    {
      "cell_type": "code",
      "execution_count": null,
      "metadata": {
        "id": "VIvJsbxl90Nx"
      },
      "outputs": [],
      "source": [
        "from os import listdir\n",
        "from os.path import join\n",
        "import face_recognition as fr\n",
        "root = \"Avengers 1\"\n",
        "# Con este comando vemos todos los subdirectorios y archivos presentes en el directorio actual\n",
        "lista_directorios = listdir(root)\n",
        "# Con esto podemos obtener el nombre de la primera carpeta del directorio que corresponde a\n",
        "# un nombre de un avenger, en este caso 'black_widow'\n",
        "primera_carpeta = lista_directorios [0]\n",
        "# Con esto tenemos la ruta donde se encuetran las fotos del primer Vengador\n",
        "directorio_primer_avenger = join(root, primera_carpeta)\n",
        "# Obtenemos una lista de los nombres de los archivos de las fotos presentes en la carpeta\n",
        "lista_fotos_primer_avenger = listdir(directorio_primer_avenger)\n",
        "primera_imagen = lista_fotos_primer_avenger [1]\n",
        "ruta_imagen = join(directorio_primer_avenger , primera_imagen)\n",
        "# Cargamos el archivo usando la libreria face_recognition\n",
        "image = fr.load_image_file(ruta_imagen)\n",
        "# Le calculamos los landmarks a la imagen del Vengador\n",
        "face_landmarks_list = fr.face_landmarks(image)\n",
        "print(f\"Clase del Vengador: {primera_carpeta} \\nLandmarks del primer Vengador: { face_landmarks_list}\")"
      ]
    },
    {
      "cell_type": "markdown",
      "metadata": {
        "id": "b4Jrq_T2Ui60"
      },
      "source": [
        "Los Landmarks son las ubicaciones y los contornos de los ojos, la nariz, la boca y la barbilla de la imagen dada.\n",
        "\n",
        "Los Landmarks están guardados en una lista que contiene diccionarios, donde la llave de cada diccionario corresponde a una parte de la cara en específico, y los valores son una lista de tuplas de las coordenadas de la respectiva parte de la cara."
      ]
    },
    {
      "cell_type": "markdown",
      "metadata": {
        "id": "PbA3xXxgaomM"
      },
      "source": [
        "Ahora, definiré una función para mostrar de forma rápida una imágen de cada avenger junto a su etiqueta, vale decir, el nombre o clase de cada avenger.\n"
      ]
    },
    {
      "cell_type": "code",
      "execution_count": null,
      "metadata": {
        "id": "swK8eVPicxOz"
      },
      "outputs": [],
      "source": [
        "from PIL import Image\n",
        "import matplotlib.pyplot as plt\n",
        "import os\n",
        "\n",
        "def display_avenger_images(root, lista_directorios):\n",
        "    for avenger in lista_directorios:\n",
        "        directorio_avenger = os.path.join(root, avenger)\n",
        "        lista_fotos_avenger = os.listdir(directorio_avenger)\n",
        "\n",
        "        if lista_fotos_avenger:\n",
        "            primera_imagen = lista_fotos_avenger[0]\n",
        "            ruta_imagen = os.path.join(directorio_avenger, primera_imagen)\n",
        "\n",
        "            image = Image.open(ruta_imagen)\n",
        "\n",
        "            plt.figure()\n",
        "            plt.imshow(image)\n",
        "            plt.title(avenger)\n",
        "            plt.axis('off')\n",
        "            plt.show()\n",
        "\n",
        "display_avenger_images(root, lista_directorios)"
      ]
    },
    {
      "cell_type": "markdown",
      "metadata": {
        "id": "3BNkoh_meURt"
      },
      "source": [
        "Ahora, veremos la distribución de los datos en el dataset. Definiremos una función que obtiene la cantidad de imagenes que hay de cada avenger en el dataset."
      ]
    },
    {
      "cell_type": "code",
      "execution_count": null,
      "metadata": {
        "id": "3hq76Z7CdN7r"
      },
      "outputs": [],
      "source": [
        "def get_image_counts(root, lista_directorios):\n",
        "    image_counts = {}\n",
        "    for avenger in lista_directorios:\n",
        "        directorio_avenger = os.path.join(root, avenger)\n",
        "        lista_fotos_avenger = os.listdir(directorio_avenger)\n",
        "        image_counts[avenger] = len(lista_fotos_avenger)\n",
        "    return image_counts\n",
        "\n",
        "\n",
        "image_counts = get_image_counts(root, lista_directorios)\n",
        "\n",
        "total_counts = 0\n",
        "for avenger, count in image_counts.items():\n",
        "    print(f\"{avenger}: {count}\")\n",
        "    total_counts += count"
      ]
    },
    {
      "cell_type": "code",
      "execution_count": null,
      "metadata": {
        "id": "MEmHQoAmhbIw"
      },
      "outputs": [],
      "source": [
        "print(f\"Y la cantidad total de imágenes es: {total_counts}\")"
      ]
    },
    {
      "cell_type": "markdown",
      "metadata": {
        "id": "NuXx-Tu7hiQU"
      },
      "source": [
        "Podemos ver que para algunos avengers tenemos muchas más imágenes disponibles que para otros. Esto podría tener un efecto significativo en el rendimiento de un modelo de reconocimiento facial para cada avenger, siempre que solo se usen estos datos para entrenar."
      ]
    },
    {
      "cell_type": "markdown",
      "metadata": {
        "id": "iHZkyLd8jg85"
      },
      "source": [
        "A continuación, mostraré un gráfico con el que es posible apreciar el porcentaje de imágenes de cada avenger en relación a la cantidad total de imágenes."
      ]
    },
    {
      "cell_type": "code",
      "execution_count": null,
      "metadata": {
        "id": "wiHHIUp9jDjz"
      },
      "outputs": [],
      "source": [
        "values = []\n",
        "labels = []\n",
        "for avenger, count in image_counts.items():\n",
        "    values.append(count)\n",
        "    labels.append(avenger)\n",
        "\n",
        "\n",
        "wedge_properties = {\"edgecolor\":\"k\",'linewidth': 1}\n",
        "plt.pie(values, labels=labels, startangle=30,\n",
        "           counterclock=False, shadow=True, wedgeprops=wedge_properties,\n",
        "           autopct=\"%1.2f%%\", pctdistance=0.7)\n",
        "plt.title(\"Distribucion de imagenes\")\n",
        "\n",
        "plt.show()"
      ]
    },
    {
      "cell_type": "markdown",
      "metadata": {
        "id": "VUz5irixj_i1"
      },
      "source": [
        "Podemos ver claramente que hay muy pocas imágenes de Nick Fury y Hawkeye, mientras que hay muchas de Iron Man."
      ]
    },
    {
      "cell_type": "code",
      "source": [],
      "metadata": {
        "id": "r5W0xSDaH0JP"
      },
      "execution_count": null,
      "outputs": []
    },
    {
      "cell_type": "markdown",
      "metadata": {
        "id": "01pCwHID92y5"
      },
      "source": [
        "#Actividad 2 - Pre-procesamiento de los datos"
      ]
    },
    {
      "cell_type": "markdown",
      "metadata": {
        "id": "uQ7P8VLKwqwo"
      },
      "source": [
        "Primero, definimos una función que calcula los landmarks de cada imágen en un directorio, y los retorna en un diccionario donde las llaves son las imágenes y los valores son listas con los landmarks. En caso de que en una imágen no se pudo reconocer una cara, el valor es una lista vacía."
      ]
    },
    {
      "cell_type": "code",
      "execution_count": null,
      "metadata": {
        "id": "0789oFCi92y6"
      },
      "outputs": [],
      "source": [
        "# Función que calcula los landmarks de todas las imágenes de un directorio\n",
        "def calculate_landmarks(directory):\n",
        "    landmarks = {}\n",
        "    image_files = os.listdir(directory)\n",
        "\n",
        "    for image_file in image_files:\n",
        "        image_path = os.path.join(directory, image_file)\n",
        "        image = fr.load_image_file(image_path)\n",
        "        face_landmarks_list = fr.face_landmarks(image)\n",
        "        landmarks[image_file] = face_landmarks_list\n",
        "\n",
        "    return landmarks\n",
        "\n",
        "# Como ejemplo, calcularemos los landmarks de black widow\n",
        "avenger_directory = os.path.join(root, \"black_widow\")\n",
        "landmarks = calculate_landmarks(avenger_directory)\n",
        "print(landmarks)"
      ]
    },
    {
      "cell_type": "markdown",
      "metadata": {
        "id": "r6AA900pxsDy"
      },
      "source": [
        "Ahora, definimos una función que toma como argumento un directorio de la misma forma que en la anterior, pero que ahora muestra una imágen random usando pyplot, para luego mostrar la misma imágen con los landmarks sobre ella."
      ]
    },
    {
      "cell_type": "code",
      "execution_count": null,
      "metadata": {
        "id": "vZC9wlIau-Yl"
      },
      "outputs": [],
      "source": [
        "import random\n",
        "\n",
        "def display_image_with_landmarks(directory, avenger):\n",
        "    image_files = os.listdir(directory)\n",
        "    random_image_file = random.choice(image_files)\n",
        "    image_path = os.path.join(directory, random_image_file)\n",
        "\n",
        "    image = fr.load_image_file(image_path)\n",
        "    face_landmarks_list = fr.face_landmarks(image)\n",
        "\n",
        "    # Mostrar foto sin landmarks\n",
        "    plt.figure()\n",
        "    plt.imshow(image)\n",
        "    plt.title(f\"Original {avenger} Image\")\n",
        "    plt.axis('off')\n",
        "    plt.show()\n",
        "\n",
        "    # Mostrar foto con landmarks encima\n",
        "    plt.figure()\n",
        "    plt.imshow(image)\n",
        "\n",
        "    for face_landmarks in face_landmarks_list:\n",
        "        for landmark_type, landmarks in face_landmarks.items():\n",
        "            x_values = [point[0] for point in landmarks]\n",
        "            y_values = [point[1] for point in landmarks]\n",
        "            plt.scatter(x_values, y_values, color='red', marker='.')\n",
        "\n",
        "    plt.title(f\"{avenger} Image with Landmarks\")\n",
        "    plt.axis('off')\n",
        "    plt.show()"
      ]
    },
    {
      "cell_type": "markdown",
      "metadata": {
        "id": "LcQfOVw6y6h8"
      },
      "source": [
        "Ahora vamos a mostrar una imágen random de cada avenger, junto con sus respectivos landmarks en caso de que sean válidos."
      ]
    },
    {
      "cell_type": "code",
      "execution_count": null,
      "metadata": {
        "id": "tyI-0EaByaCs"
      },
      "outputs": [],
      "source": [
        "for avenger in lista_directorios:\n",
        "        directorio_avenger = os.path.join(root, avenger)\n",
        "        lista_fotos_avenger = os.listdir(directorio_avenger)\n",
        "        display_image_with_landmarks(directorio_avenger, avenger)"
      ]
    },
    {
      "cell_type": "markdown",
      "metadata": {
        "id": "Gn0rCo1NIk-L"
      },
      "source": [
        "Ahora, vamos a calcular los Landmarks de todos los avengers"
      ]
    },
    {
      "cell_type": "code",
      "execution_count": null,
      "metadata": {
        "id": "Kfk26IghIQe-"
      },
      "outputs": [],
      "source": [
        "landmarks_black_widow = landmarks # renombramos los landmarks de black widow que habiamos calculado\n",
        "\n",
        "captain_directory = os.path.join(root, \"captain_america\")\n",
        "landmarks_captain_america = calculate_landmarks(captain_directory)\n",
        "\n",
        "ironman_directory = os.path.join(root, \"iron_man\")\n",
        "landmarks_ironman = calculate_landmarks(ironman_directory)\n",
        "\n",
        "hulk_directory = os.path.join(root, \"hulk\")\n",
        "landmarks_hulk = calculate_landmarks(hulk_directory)\n",
        "\n",
        "thor_directory = os.path.join(root, \"thor\")\n",
        "landmarks_thor = calculate_landmarks(thor_directory)\n",
        "\n",
        "hawkeye_directory = os.path.join(root, \"hawkeye\")\n",
        "landmarks_hawkeye = calculate_landmarks(hawkeye_directory)\n",
        "\n",
        "nickfury_directory = os.path.join(root, \"nick_fury\")\n",
        "landmarks_nickfury = calculate_landmarks(nickfury_directory)"
      ]
    },
    {
      "cell_type": "markdown",
      "metadata": {
        "id": "vARJNci6MWWQ"
      },
      "source": [
        "Definiremos una función que cuente la cantidad de imágenes sin landmarks para cada imágen, para estar al tanto de la cantidad de datos válidos que tenemos. Retorna una tupla de la siguiente forma:\n",
        "\n",
        "(cantidad de imágenes sin landmarks, total de imágenes)"
      ]
    },
    {
      "cell_type": "code",
      "execution_count": null,
      "metadata": {
        "id": "End6deiSL5-F"
      },
      "outputs": [],
      "source": [
        "def count_null_landmarks(landmarks_dict):\n",
        "  empty_count = 0\n",
        "  total_count = len(landmarks_dict)\n",
        "  for key, value in landmarks_dict.items():\n",
        "        if len(value) == 0:\n",
        "            empty_count += 1\n",
        "\n",
        "  return empty_count, total_count"
      ]
    },
    {
      "cell_type": "code",
      "execution_count": null,
      "metadata": {
        "id": "rh4EM2b3OrbD"
      },
      "outputs": [],
      "source": [
        "nickfury = count_null_landmarks(landmarks_nickfury)\n",
        "hawkeye =  count_null_landmarks(landmarks_hawkeye)\n",
        "thor = count_null_landmarks(landmarks_thor)\n",
        "hulk = count_null_landmarks(landmarks_hulk)\n",
        "ironman = count_null_landmarks(landmarks_ironman)\n",
        "captain_america = count_null_landmarks(landmarks_captain_america)\n",
        "black_widow = count_null_landmarks(landmarks_black_widow)"
      ]
    },
    {
      "cell_type": "code",
      "execution_count": null,
      "metadata": {
        "id": "6n4nIaQtZaxe"
      },
      "outputs": [],
      "source": [
        "# añadirlos todos a una lista\n",
        "avengers_values = []\n",
        "avengers_values.append(nickfury)\n",
        "avengers_values.append(hawkeye)\n",
        "avengers_values.append(thor)\n",
        "avengers_values.append(hulk)\n",
        "avengers_values.append(ironman)\n",
        "avengers_values.append(captain_america)\n",
        "avengers_values.append(black_widow)\n",
        "\n",
        "print(avengers_values)"
      ]
    },
    {
      "cell_type": "code",
      "execution_count": null,
      "metadata": {
        "id": "mDcII8cCZJsC"
      },
      "outputs": [],
      "source": [
        "names = ['Nick Fury', 'Hawkeye', 'Thor', 'Hulk', 'Ironman', 'Captain America', 'Black Widow']\n",
        "pct_values = []\n",
        "def print_invalid_values(avengers_values, names):\n",
        "    index = 0\n",
        "    for avenger in avengers_values:\n",
        "        invalid_pct = (avenger[0] * 100) / avenger[1]\n",
        "        name = names[index]\n",
        "        print(f\"{name} tiene {avenger[0]} imágenes sin landmarks, lo cual equivale a un {invalid_pct:.2f}%\")\n",
        "        index += 1\n",
        "        values.append(invalid_pct)\n",
        "\n",
        "print_invalid_values(avengers_values, names)"
      ]
    },
    {
      "cell_type": "markdown",
      "metadata": {
        "id": "toOeu_OIfnaW"
      },
      "source": [
        "Podemos apreciar que todos los avengers tienen una cantidad similar de imágenes invalidas en relación al total de imágenes que hay, a excepción de Nick Fury, que tiene un 73.16% de imágenes inválidas, lo cual es un montón."
      ]
    },
    {
      "cell_type": "markdown",
      "metadata": {
        "id": "5E13eTLeiDxK"
      },
      "source": [
        "Para continuar con la tarea, eliminare las imágenes que no tienen landmarks. Esto debería perjudicar a los modelos que entrenaremos en cuanto a todos los avengers de una forma parecida, a excepción de Nick Fury, que definitivamente tendrá pocos datos, siendo muy probable que el modelo no sea muy preciso en el reconocimiento de este personaje.\n",
        "\n",
        "Considero que rellenar los valores vacíos con un promedio por ejemplo, producirá mucho sesgo y/o ruido en las diferentes clases. También, descarto usar las imágenes sin landmarks para entrenar sabiendo que estas no tienen landmarks. Lo descarto porque es muy probable que se introduzca un sesgo frente a cierto tipo de imágenes similares, que pueden ser perfectamente de muchas clases distintas de avengers.\n",
        "\n",
        "Es lamentable que tenga que descartar una cantidad considerable de datos, pero es la mejor opción dadas las circunstancias."
      ]
    },
    {
      "cell_type": "code",
      "execution_count": null,
      "metadata": {
        "id": "3RStDBE-1hXl"
      },
      "outputs": [],
      "source": [
        "# función para eliminar los datos deseados\n",
        "def remove_empty_values(dictionary):\n",
        "    return {key: value for key, value in dictionary.items() if value != []}\n",
        "\n",
        "# actualizamos el valor de todos los landmarks\n",
        "landmarks_nickfury = remove_empty_values(landmarks_nickfury)\n",
        "landmarks_hawkeye = remove_empty_values(landmarks_hawkeye)\n",
        "landmarks_thor = remove_empty_values(landmarks_thor)\n",
        "landmarks_hulk = remove_empty_values(landmarks_hulk)\n",
        "landmarks_ironman = remove_empty_values(landmarks_ironman)\n",
        "landmarks_captain_america = remove_empty_values(landmarks_captain_america)\n",
        "landmarks_black_widow = remove_empty_values(landmarks_black_widow)"
      ]
    },
    {
      "cell_type": "markdown",
      "metadata": {
        "id": "77TMqlkM924z"
      },
      "source": [
        "#Actividad 3 - Definición de features"
      ]
    },
    {
      "cell_type": "markdown",
      "metadata": {
        "id": "h3rB9_hs5xqz"
      },
      "source": [
        "Para posteriormente entrenar a nuestros modelo, a partir de los landmarks obtenidos por **face-recognition**, calcularemos distancias de coordenadas para obtener las siguientes features:\n",
        "\n",
        "\n",
        "1. **eye_nose_width**: La relación entre la separación de los ojos y el ancho de la nariz.\n",
        "2. **eyebrow_distance**: La distancia entre los puntos más lejanos entre ambas cejas.\n",
        "3. **mouth_width_place**: La proporción entre el posicionamiento de la boca en relación a la nariz / en el ancho de esta.\n",
        "4. **eye_space**: La separación entre el borde interno de ambos ojos.\n",
        "5. **nose_length**: El largo de la nariz, la diferencia entre el punto más alto y el punto más bajo.\n",
        "6. **two_axis_proportion**: La proporción entre el eje vertical (la distancia del punto más alto de la cara hasta la boca) en relación al eje horizontal (la separación de los bordes externos de ambos ojos).\n",
        "7. **eyebrow_height**: El promedio de la separación entre las cejas y sus respectivos ojos. Se calcularía sumando aquellas distancias y diviendo por 2.\n",
        "8. **orbicular**: Proporción entre el comienzo  y la punta de la nariz, en relación al espacio orbicular: la distancia entre el comienzo de la nariz y la boca.\n",
        "9. **sup_lip**: El tamaño del labio superior en relación al espacio orbicular de la cara.\n",
        "10. **lips_relation**: La relación entre el tamaño del labio superior con el tamaño del labio inferior.\n",
        "\n",
        "Todos estos valores de partes de la cara le permitirán al modelo clasificar a los diversos avengers en nuestro set de datos. Esto ya que son diversas medidas de la cara que pueden tener una alta varianza entre los datos que tenemos.\n",
        "En la elección de varias features, me apoyé en el siguiente paper: https://www.researchgate.net/publication/220659985_Anthropometric_3D_Face_Recognition\n",
        "En donde se muestran distintas proporciones de la cara humana, junto a la desviación de ests medidas según el experimento realizado por los investigadores. Tomé algunas que eran adaptable a los landmarks, intentando priorizar las que tienen una mayor desviación, porque esto permitirá entrenar mejor al modelo.\n",
        "\n",
        "Además, agregamos el nombre del avenger a cada foto, para poder darle la etiqueta específica a sus respectivos tipos. Esto nos permitirá entrenar modelos de machine learning supervisados, donde nosotros le damos la información necesaria a los modelos acerca de cuales son los disintos avengers que debería reconocer.\n",
        "\n",
        "Hubo varias features que pensé en agregar, pero que finalmente decidi no hacerlo. Por ejemplo, el género podía conllevar un sesgo importante, debido a que solo hay una mujer en todo el dataset. Ocurre lo mismo con el color de piel, ya que solo hay un avenger de un tono oscuro, mientras que todos los demás tienen una clara tonalidad blanca, lo cual también podría implicar un sesgo considerable.\n",
        "También, pensé en agregar la expresión de la cara, como \"sorprendido\", \"enojado\", \"triste\", \"serio\", etc. Sin embargo, esto no es viable debido a la gran cantidad de fotos que tendría que revisar y yo etiquetar manualmente. Sería un esfuerzo sumamente ineficieinte, pero que debería ser información valios para los modelos que crearemos después.\n",
        "\n"
      ]
    },
    {
      "cell_type": "markdown",
      "metadata": {
        "id": "QbJGnBbe79o8"
      },
      "source": [
        "---"
      ]
    },
    {
      "cell_type": "markdown",
      "metadata": {
        "id": "NQKnq5mhDv2X"
      },
      "source": [
        "## Calculo de las Features"
      ]
    },
    {
      "cell_type": "markdown",
      "metadata": {
        "id": "uB79LZyS8Ldv"
      },
      "source": [
        "Usando esto de abajo, me guie para saber como calcular las diferentes features. Fui probando para comprender bien las partes de la cara que necesitaba utilizar."
      ]
    },
    {
      "cell_type": "code",
      "execution_count": null,
      "metadata": {
        "id": "vG1ZAOSZ46N8"
      },
      "outputs": [],
      "source": [
        "\n",
        "landmarks = landmarks_ironman['face_130599_0.png']\n",
        "landmarks = landmarks[0]\n",
        "plt.figure()\n",
        "keys = landmarks.keys()\n",
        "print(keys)\n",
        "# imprime todos los landmarks\n",
        "for landmark_type, landmarks_values in landmarks.items():\n",
        "    x_values = [point[0] for point in landmarks_values]\n",
        "    y_values = [point[1] for point in landmarks_values]\n",
        "    plt.scatter(x_values, y_values, color='black', marker='.')\n",
        "    if landmark_type == 'nose_bridge':\n",
        "      plt.scatter(x_values, y_values, color='blue', marker='.')\n",
        "    if landmark_type == 'left_eye':\n",
        "      plt.scatter(x_values, y_values, color='green', marker='.')\n",
        "    if landmark_type == 'top_lip':\n",
        "      plt.scatter(x_values, y_values, color='red', marker='.')\n",
        "\n",
        "plt.title(\"Landmarks\")\n",
        "plt.gca().invert_yaxis()\n",
        "plt.show()"
      ]
    },
    {
      "cell_type": "markdown",
      "metadata": {
        "id": "JmX8JAsUPQvZ"
      },
      "source": [
        "Ahora vamos a definir las funciones que van a calcular las distintas features a partir de los landmarks de cada foto:"
      ]
    },
    {
      "cell_type": "code",
      "execution_count": null,
      "metadata": {
        "id": "_C8OfwwGEg3d"
      },
      "outputs": [],
      "source": [
        "# 1- Eye nose width\n",
        "def calc_eye_nose_width(landmarks):\n",
        "  left_eye = landmarks['left_eye']\n",
        "  right_eye = landmarks['right_eye']\n",
        "  nose_tip = landmarks['nose_bridge']\n",
        "  left = max(left_eye, key=lambda t: t[0])\n",
        "  right = min(right_eye, key=lambda t: t[0])\n",
        "  left_nose = min(nose_tip, key=lambda t: t[0])\n",
        "  right_nose = max(nose_tip, key=lambda t: t[0])\n",
        "  # sometimes happen that the coordinates of left_nose and right_nose are the same\n",
        "  if left_nose[0] == right_nose[0]:\n",
        "    return (right[0] - left[0]) / 1\n",
        "  else:\n",
        "    return (right[0] - left[0]) / (right_nose[0] - left_nose[0])\n",
        "\n",
        "\n",
        "# 2- Eyebrow distance\n",
        "def calc_eyebrow_distance(landmarks):\n",
        "   left = landmarks['left_eyebrow']\n",
        "   right = landmarks['right_eyebrow']\n",
        "   more_left_point = min(left, key=lambda t: t[0])\n",
        "   more_right_point = max(right, key=lambda t: t[0])\n",
        "   # return the x values of the points\n",
        "   return more_right_point[0] - more_left_point[0]\n",
        "\n",
        "\n",
        "# 3- Mouth width place\n",
        "def calc_mouth_width_place(landmarks):\n",
        "  nose_tip = landmarks['nose_tip']\n",
        "  top_lip = landmarks['top_lip']\n",
        "  bottom_lip = landmarks['bottom_lip']\n",
        "  tip_point = max(nose_tip, key=lambda t: t[1])\n",
        "  top_lip_point = max(top_lip, key=lambda t: t[1])\n",
        "  left_mouth_point = min(bottom_lip, key=lambda t: t[0])\n",
        "  right_mouth_point = max(bottom_lip, key=lambda t: t[0])\n",
        "  num = top_lip_point[1] - tip_point[1]\n",
        "  div = right_mouth_point[0] - left_mouth_point[0]\n",
        "  return num / div\n",
        "\n",
        "\n",
        "# 4- Eye space\n",
        "def calc_eye_space(landmarks):\n",
        "  left = landmarks['left_eye']\n",
        "  right = landmarks['right_eye']\n",
        "  left_point = max(left, key=lambda t: t[0])\n",
        "  right_point = min(right, key=lambda t: t[0])\n",
        "  # return the x values of the points\n",
        "  return right_point[0] - left_point[0]\n",
        "\n",
        "# 5- Nose length\n",
        "def calc_nose_length(landmarks):\n",
        "   nose_bridge = landmarks['nose_bridge']\n",
        "   nose_tip = landmarks['nose_tip']\n",
        "   point_lowest_y = min(nose_bridge, key=lambda t: t[1])\n",
        "   point_highest_y = max(nose_tip, key=lambda t: t[1])\n",
        "   # return the y values of the points\n",
        "   return point_highest_y[1] - point_lowest_y[1]\n",
        "\n",
        "# 6- Two axis proportion:\n",
        "def calc_2_axis_proportion(landmarks):\n",
        "  nose_bridge = landmarks['nose_bridge']\n",
        "  top_lip = landmarks['top_lip']\n",
        "  left_eye = landmarks['left_eye']\n",
        "  right_eye = landmarks['right_eye']\n",
        "  top_point= min(nose_bridge, key=lambda t: t[1])\n",
        "  mouth_point = max(top_lip, key=lambda t: t[1])\n",
        "  left_point = min(left_eye, key=lambda t: t[0])\n",
        "  right_point = max(right_eye, key=lambda t: t[0])\n",
        "  num = mouth_point[1] - top_point[1]\n",
        "  div = right_point[0] - left_point[0]\n",
        "  return num / div\n",
        "\n",
        "\n",
        "# 7- Eyebrow height\n",
        "def calc_eyebrow_height(landmarks):\n",
        "  # left eye\n",
        "  left_eyebrow = landmarks['left_eyebrow']\n",
        "  left_eye = landmarks['left_eye']\n",
        "  left_lowest_y = min(left_eyebrow, key=lambda t: t[1])\n",
        "  left_highest_y = max(left_eye, key=lambda t: t[1])\n",
        "  left = left_highest_y[1] - left_lowest_y[1]\n",
        "  # right eye\n",
        "  right_eyebrow = landmarks['right_eyebrow']\n",
        "  right_eye = landmarks['right_eye']\n",
        "  right_lowest_y = min(right_eyebrow, key=lambda t: t[1])\n",
        "  right_highest_y = max(right_eye, key=lambda t: t[1])\n",
        "  right = right_highest_y[1] - right_lowest_y[1]\n",
        "  # return the average between the 2 eyebrows\n",
        "  return((left + right) / 2)\n",
        "\n",
        "# 8- Orbicular\n",
        "def calc_orbicular_proportion(landmarks):\n",
        "  nose_tip = landmarks['nose_tip']\n",
        "  nose_bridge = landmarks['nose_bridge']\n",
        "  top_lip = landmarks['top_lip']\n",
        "  lowest_nose = max(nose_tip, key=lambda t: t[1])\n",
        "  tip = max(nose_bridge, key=lambda t: t[1])\n",
        "  mouth = max(top_lip, key=lambda t: t[1])\n",
        "  return (lowest_nose[1] - tip[1]) / (mouth[1] - lowest_nose[1])\n",
        "\n",
        "# 9- Sup lip\n",
        "def calc_sup_lip(landmarks):\n",
        "  top_lip = landmarks['top_lip']\n",
        "  nose_tip = landmarks['nose_tip']\n",
        "  highest_y_lip = max(top_lip, key=lambda t: t[1])\n",
        "  lowest_y_lip = min(top_lip, key=lambda t: t[1])\n",
        "  nose_tip_point = max(nose_tip, key=lambda t: t[1])\n",
        "  num = highest_y_lip[1] - lowest_y_lip[1]\n",
        "  div = lowest_y_lip[1] - nose_tip_point[1]\n",
        "  if lowest_y_lip[1] == nose_tip_point[1]:\n",
        "    return num\n",
        "  else:\n",
        "    return num / div\n",
        "\n",
        "# 10- Lips relation\n",
        "def calc_lips_relation(landmarks):\n",
        "  top_lip = landmarks['top_lip']\n",
        "  bottom_lip = landmarks['bottom_lip']\n",
        "  highest_y_top_lip = max(top_lip, key=lambda t: t[1])\n",
        "  lowest_y_top_lip = min(top_lip, key=lambda t: t[1])\n",
        "  highest_y_bot_lip = max(bottom_lip, key=lambda t: t[1])\n",
        "  lowest_y_bot_lip = min(bottom_lip, key=lambda t: t[1])\n",
        "  num = highest_y_top_lip[1] - lowest_y_top_lip[1]\n",
        "  div = highest_y_bot_lip[1] - lowest_y_bot_lip[1]\n",
        "  return num / div\n",
        "\n"
      ]
    },
    {
      "cell_type": "markdown",
      "metadata": {
        "id": "usSfwzo_D0at"
      },
      "source": [
        "## Creación de los DataFrames"
      ]
    },
    {
      "cell_type": "markdown",
      "metadata": {
        "id": "RjoYL9npxv8N"
      },
      "source": [
        "Ahora, vamos a definir una función que genere las filas del DataFrame de un avenger deseado:"
      ]
    },
    {
      "cell_type": "code",
      "execution_count": null,
      "metadata": {
        "id": "S1yT3CmltL3T"
      },
      "outputs": [],
      "source": [
        "def generate_rows(landmarks_dict, avenger):\n",
        "    rows = []\n",
        "    for photo, landmarks in landmarks_dict.items():\n",
        "        row = {}\n",
        "        landmarks = landmarks[0]\n",
        "\n",
        "        eyebrow_distance = calc_eyebrow_distance(landmarks)\n",
        "        row['eyebrow_distance'] = eyebrow_distance\n",
        "\n",
        "        eye_space = calc_eye_space(landmarks)\n",
        "        row['eye_space'] = eye_space\n",
        "\n",
        "        nose_length = calc_nose_length(landmarks)\n",
        "        row['nose_length'] = nose_length\n",
        "\n",
        "        eyebrow_height = calc_eyebrow_height(landmarks)\n",
        "        row['eyebrow_height'] = eyebrow_height\n",
        "\n",
        "        orbicular = calc_orbicular_proportion(landmarks)\n",
        "        row['orbicular'] = orbicular\n",
        "\n",
        "        eye_nose_width = calc_eye_nose_width(landmarks)\n",
        "        row['eye_nose_width'] = eye_nose_width\n",
        "\n",
        "        mouth_width_place  = calc_mouth_width_place(landmarks)\n",
        "        row['mouth_width_place'] = mouth_width_place\n",
        "\n",
        "        two_axis_prop = calc_2_axis_proportion(landmarks)\n",
        "        row['two_axis_proportion'] = two_axis_prop\n",
        "\n",
        "        sup_lip = calc_sup_lip(landmarks)\n",
        "        row['sup_lip'] = sup_lip\n",
        "\n",
        "        lips_relation = calc_lips_relation(landmarks)\n",
        "        row['lips_relation'] = lips_relation\n",
        "\n",
        "\n",
        "        row['avenger_name'] = avenger\n",
        "        row['photo'] = photo\n",
        "        rows.append(row)\n",
        "    return rows"
      ]
    },
    {
      "cell_type": "markdown",
      "metadata": {
        "id": "aSmMd9Ag5ywO"
      },
      "source": [
        "Ahora, crearemos los dataframes de cada avenger, para después juntarlos a todos en un solo DataFrame."
      ]
    },
    {
      "cell_type": "code",
      "execution_count": null,
      "metadata": {
        "id": "BWlUcMd7urO9"
      },
      "outputs": [],
      "source": [
        "nickfury_rows = generate_rows(landmarks_nickfury, 'Nick Fury')\n",
        "nickfury_df = pd.DataFrame(nickfury_rows)\n",
        "nickfury_df = nickfury_df.set_index('photo')\n",
        "\n",
        "hawkeye_rows = generate_rows(landmarks_hawkeye, 'Hawkeye')\n",
        "hawkeye_df = pd.DataFrame(hawkeye_rows)\n",
        "hawkeye_df = hawkeye_df.set_index('photo')\n",
        "\n",
        "thor_rows = generate_rows(landmarks_thor, 'Thor')\n",
        "thor_df = pd.DataFrame(thor_rows)\n",
        "thor_df = thor_df.set_index('photo')\n",
        "\n",
        "hulk_rows = generate_rows(landmarks_hulk, 'Hulk')\n",
        "hulk_df = pd.DataFrame(hulk_rows)\n",
        "hulk_df = hulk_df.set_index('photo')\n",
        "\n",
        "ironman_rows = generate_rows(landmarks_ironman, 'Ironman')\n",
        "ironman_df = pd.DataFrame(ironman_rows)\n",
        "ironman_df = ironman_df.set_index('photo')\n",
        "\n",
        "captain_rows = generate_rows(landmarks_captain_america, 'Captain America')\n",
        "captain_df = pd.DataFrame(captain_rows)\n",
        "captain_df = captain_df.set_index('photo')\n",
        "\n",
        "blackwidow_rows = generate_rows(landmarks_black_widow, 'Black Widow')\n",
        "blackwidow_df = pd.DataFrame(blackwidow_rows)\n",
        "blackwidow_df = blackwidow_df.set_index('photo')\n"
      ]
    },
    {
      "cell_type": "markdown",
      "metadata": {
        "id": "glj4p7Bb7b1i"
      },
      "source": [
        "Ahora, juntaremos todos los DataFrames en uno solo. Esto se hace simplemente concatenando todos los DataFrames creados, ya que tienen las mismas features."
      ]
    },
    {
      "cell_type": "code",
      "execution_count": null,
      "metadata": {
        "id": "5xYIZeGg7Zsq"
      },
      "outputs": [],
      "source": [
        "data = pd.concat([nickfury_df, hawkeye_df, thor_df, hulk_df, ironman_df, captain_df, blackwidow_df], axis=0)\n",
        "data.info()"
      ]
    },
    {
      "cell_type": "markdown",
      "metadata": {
        "id": "Si12J0dLsRiz"
      },
      "source": [
        "Para ahorrarme tiempo entre ejecuciones, guardaré el DataFrame como un CSV. De esta forma puedo importarlo cada vez que quiero trabajar en Google Collab."
      ]
    },
    {
      "cell_type": "code",
      "execution_count": null,
      "metadata": {
        "id": "ng_uaGWqsQks"
      },
      "outputs": [],
      "source": [
        "avengers = data.to_csv('avengers.csv')"
      ]
    },
    {
      "cell_type": "markdown",
      "metadata": {
        "id": "fQGpTgtk929Z"
      },
      "source": [
        "#Actividad 4 - Los modelos"
      ]
    },
    {
      "cell_type": "code",
      "execution_count": null,
      "metadata": {
        "id": "zBAF6MMv929Z"
      },
      "outputs": [],
      "source": [
        "import pandas as pd\n",
        "# importamos funcionailidades necesaria de scikit-learn\n",
        "from sklearn.svm import SVC\n",
        "from sklearn.naive_bayes import GaussianNB\n",
        "from sklearn.tree import DecisionTreeClassifier\n",
        "from sklearn.model_selection import train_test_split\n",
        "from sklearn import metrics\n",
        "\n",
        "# importamos los datos de nuestros avengers\n",
        "data = pd.read_csv('avengers.csv')"
      ]
    },
    {
      "cell_type": "markdown",
      "metadata": {
        "id": "v4XYtQKkxwgz"
      },
      "source": [
        "Ahora crearemos nuestros subsets de datos, para posteriormente crear nuestros conjuntos de entrenamiento y testeo.\n",
        "\n",
        "* Creamos la variable X: Nuestros datos **sin avenger_name**, que es el dato que nuestros modelos buscarán predecir. También le sacamos **photo** porque es un dato innecesario al momento de entrenar.\n",
        "* Creamos la variable Y: Los valores de **avenger_name** de todo nuestro dataset."
      ]
    },
    {
      "cell_type": "code",
      "execution_count": null,
      "metadata": {
        "id": "gaa_16r3v_3A"
      },
      "outputs": [],
      "source": [
        "X = data.drop(['photo', 'avenger_name'], axis=1)\n",
        "y = data['avenger_name']\n",
        "\n",
        "# Hacemos la separación entre el set de entrenamiento y el set de testeo\n",
        "X_train, X_test, y_train, y_test = train_test_split(X, y, test_size=0.2, random_state=23)"
      ]
    },
    {
      "cell_type": "markdown",
      "metadata": {
        "id": "z1jYx8F-zQjj"
      },
      "source": [
        "De momento dejaremos en el Training Set a un 20% de los datos, mientras que el 80% restante es dejado para entrenar nuestros modelos. El porcentaje de testeo de 20% es bueno ya que permitirá que haya una gran cantidad de datos con las que el modelo podrá entrenar, pero que a la vez da la posibilidad de que se pueda estimar correctamente el rendimiento.\n",
        "\n",
        "Además, dejaremos el random_state como 23 para mantener una concordancia entre las multiples veces que la celda de código de arriba sea corrida."
      ]
    },
    {
      "cell_type": "markdown",
      "metadata": {
        "id": "BrTs8h_h0mWz"
      },
      "source": [
        "Como mencionamos con anterioridad, lo más probable es que nuestros modelos no sean muy eficientes en reconocer a los avengers como Nick Fury o Hawkeye, ya que existían muy pocos datos de ellos; el 3.44% y el 5.63% en relacion al total de imagenes respectivamente. Además en el caso de Nick Fury, en el 73.16% de las imágenes del set de datos face-recognition no logró reconocerlas como una cara, por lo que definitivamente el rendimiento en reconocer a este avenger no será bueno.\n",
        "\n",
        "Espero que los modelos tengan una mayor precisión reconociendo a los demas avengers, pero sobre todo a Iron Man, ya que un 27.62% del total de las imágenes eran de él, y se descartaron tan solo un 21.68% de estas porque face-recognition no pudo generar landmarks.\n"
      ]
    },
    {
      "cell_type": "markdown",
      "metadata": {
        "id": "2O6ynM2E8Q7d"
      },
      "source": [
        "---\n",
        "A continuación, se entrenarán distintos modelos y se irá comparando su rendimiento según las siguientes métricas:\n",
        "* Accuracy: Determina la proporción de caras correctamente reconocidas.\n",
        "* Precision: Indica la habilidad del modelo de correctamente identificar los avengers específicos. Usando el promedio weighted, donde calcula la precisión de cada clase, pero considera el soporte para los weights (la cantidad de instancias acertadas de cada clase).\n",
        "* Recall: Mide la habilidad del modelo de correctamente detectar todas las instancias de un avenger en particular.\n",
        "* F1 Score: Combina la precisión y un recall, para proveer una medida balanceada del rendimiento del modelo."
      ]
    },
    {
      "cell_type": "markdown",
      "metadata": {
        "id": "mgX8OMs95173"
      },
      "source": [
        "### Decision Tree"
      ]
    },
    {
      "cell_type": "code",
      "execution_count": null,
      "metadata": {
        "id": "krR1EHin5_dE"
      },
      "outputs": [],
      "source": [
        "tree = DecisionTreeClassifier(criterion='gini', random_state=1)\n",
        "tree.fit(X_train, y_train)\n",
        "decision_tree_predicted = tree.predict(X_test)\n",
        "print(f'Accuracy: {metrics.accuracy_score(y_test, decision_tree_predicted)}')\n",
        "print(f'Precission: {metrics.precision_score(y_test, decision_tree_predicted, average=\"weighted\")}')\n",
        "print(f'Recall: {metrics.recall_score(y_test, decision_tree_predicted, average=\"weighted\")}')\n",
        "print(f'F1 Score: {metrics.f1_score(y_test, decision_tree_predicted, average=\"weighted\")}')"
      ]
    },
    {
      "cell_type": "markdown",
      "metadata": {
        "id": "hRHIi1WZ9eqW"
      },
      "source": [
        "### Random Forest\n",
        "\n"
      ]
    },
    {
      "cell_type": "markdown",
      "metadata": {
        "id": "lcm9gMBr-OVW"
      },
      "source": [
        "Para este modelo, fui probando con distintas cantidaded de árboles de decision usados para el ensamble. Con la que logre un mejor rendimiento, fue haciendo uso de 56 de estos. Sobre este número, el rendimiento comienza a bajar, debido a un *overfitting*."
      ]
    },
    {
      "cell_type": "code",
      "execution_count": null,
      "metadata": {
        "id": "FqOCbS239idB"
      },
      "outputs": [],
      "source": [
        "from sklearn.ensemble import RandomForestClassifier\n",
        "forest = RandomForestClassifier(n_estimators=55, random_state=1)\n",
        "forest.fit(X_train, y_train)\n",
        "forest_predicted = forest.predict(X_test)\n",
        "print(f'Accuracy: {metrics.accuracy_score(y_test, forest_predicted)}')\n",
        "print(f'Precission: {metrics.precision_score(y_test, forest_predicted, average=\"weighted\")}')\n",
        "print(f'Recall: {metrics.recall_score(y_test, forest_predicted, average=\"weighted\")}')\n",
        "print(f'F1 Score: {metrics.f1_score(y_test, forest_predicted, average=\"weighted\")}')"
      ]
    },
    {
      "cell_type": "markdown",
      "metadata": {
        "id": "AmCxzn8Z-w-I"
      },
      "source": [
        "### Gradient Boosting"
      ]
    },
    {
      "cell_type": "markdown",
      "metadata": {
        "id": "2j4HaOkEBHC7"
      },
      "source": [
        "Fui variando el **learning_rate**. Probé con el número de estimadores, pero me di cuenta que en general el rendimiento siempre bajó, por lo que decidí dejarlo en default, que es 100.\n",
        "\n",
        "Intenté también ver si con el criterio de **squared_error** mejoraba el rendimiento, pero no fue así. La documentación de scikit-learn menciona que el criterio por default, **friedman_mse**, suele ser el mejor en la mayoría de los casos."
      ]
    },
    {
      "cell_type": "code",
      "execution_count": null,
      "metadata": {
        "id": "bZ4NmATT-6h1"
      },
      "outputs": [],
      "source": [
        "from sklearn.ensemble import GradientBoostingClassifier\n",
        "\n",
        "gboost = GradientBoostingClassifier(learning_rate=0.22, n_estimators=100, criterion='friedman_mse', random_state=1)\n",
        "gboost.fit(X_train, y_train)\n",
        "gradient_predicted = gboost.predict(X_test)\n",
        "print(f'Accuracy: {metrics.accuracy_score(y_test, gradient_predicted)}')\n",
        "print(f'Precission: {metrics.precision_score(y_test, gradient_predicted, average=\"weighted\")}')\n",
        "print(f'Recall: {metrics.recall_score(y_test, gradient_predicted, average=\"weighted\")}')\n",
        "print(f'F1 Score: {metrics.f1_score(y_test, gradient_predicted, average=\"weighted\")}')"
      ]
    },
    {
      "cell_type": "markdown",
      "metadata": {
        "id": "db_OZz3HI89F"
      },
      "source": [
        "### KNN"
      ]
    },
    {
      "cell_type": "markdown",
      "metadata": {
        "id": "r_qlxkMuJtLy"
      },
      "source": [
        "Fui variando la cantidad de vecinos. Finalmente con 5 (valor default) fue cuando obtuve mejores resultados. Modifique el parámetro de **weights**, ya que me dió mejores resultados usando *distance*. También modifique el parámetro p, que usando 1 se usa la distancia Manhattan, la cual me dió mejores resultados que la distancia Euclidiana (2 y default).\n",
        "\n",
        "El Algoritmo lo deje automático, su valor default ya que en mi opinión realmente toma una buena decisión en base a los datos de entrenamiento."
      ]
    },
    {
      "cell_type": "code",
      "execution_count": null,
      "metadata": {
        "id": "6FpQIa1aI_oh"
      },
      "outputs": [],
      "source": [
        "from sklearn.neighbors import KNeighborsClassifier\n",
        "\n",
        "knn = KNeighborsClassifier(n_neighbors=5, weights='distance', p=1, algorithm='auto')\n",
        "knn.fit(X_train, y_train)\n",
        "knn_predicted = knn.predict(X_test)\n",
        "print(f'Accuracy: {metrics.accuracy_score(y_test, knn_predicted)}')\n",
        "print(f'Precission: {metrics.precision_score(y_test, knn_predicted, average=\"weighted\")}')\n",
        "print(f'Recall: {metrics.recall_score(y_test, knn_predicted, average=\"weighted\")}')\n",
        "print(f'F1 Score: {metrics.f1_score(y_test, knn_predicted, average=\"weighted\")}')"
      ]
    },
    {
      "cell_type": "markdown",
      "metadata": {
        "id": "14wcIbJ-LTWx"
      },
      "source": [
        "### SVM"
      ]
    },
    {
      "cell_type": "markdown",
      "metadata": {
        "id": "rNJJ4hg3OCwB"
      },
      "source": [
        "Fui probando con diferentes kernels, y por lejos el que mejores resultados me dió fue el kernel lineal.\n",
        "También, fui variando el parámetro de regularización C, que entre mayor es, menos se penalizan los valores mal clasificados.\n",
        "Tras varios intentos, el que mejor desempeño me otorgó fue de C=10."
      ]
    },
    {
      "cell_type": "code",
      "execution_count": null,
      "metadata": {
        "colab": {
          "background_save": true
        },
        "id": "-9JfzkFSLWVn"
      },
      "outputs": [],
      "source": [
        "svm_model = SVC(kernel='linear', C=10)\n",
        "svm_model.fit(X_train, y_train)\n",
        "svm_predicted = svm_model.predict(X_test)\n",
        "print(f'Accuracy: {metrics.accuracy_score(y_test, svm_predicted)}')\n",
        "#print(f'Precission: {metrics.precision_score(y_test, predicted, average=\"weighted\")}') da problemas para este modelo\n",
        "print(f'Recall: {metrics.recall_score(y_test, svm_predicted, average=\"weighted\")}')\n",
        "print(f'F1 Score: {metrics.f1_score(y_test, svm_predicted, average=\"weighted\")}')"
      ]
    },
    {
      "cell_type": "markdown",
      "metadata": {
        "id": "HmchHmyMSo26"
      },
      "source": [
        "### Conclusión de los modelos"
      ]
    },
    {
      "cell_type": "markdown",
      "metadata": {
        "id": "9-d4dEWzIZsu"
      },
      "source": [
        "Es apreciable que el modelo que mejor funcionó fue el Random Forest. Este fue el mejor porque es fuerte contra datos ruidosos, donde algunas imágenes tenían variaciones de luz, poses, expresiones, etc. Hay que considerar que el Decision Tree a pesar de ser simple, no tuvo un tan mal rendimiento, por lo que Random Forest al ser un ensamble de árboles de decisión, logró tener una ventaja por sobre los demás modelos. Por último, Random Forest suele ser mejor en capturar relaciones no lineales entre los datos y su etiqueta deseada. Muchas veces los landmarks de una misma clase no estaban completamente relacionadas, y el modelo normalmente es fuerte en este ámbito.\n",
        "\n",
        "En base a los resultados, es posible concluir que el peor modelo fue SVM. Esto se da porque este modelo suele ser mejor con grandes cantidades de datos. En nuestro caso, no teniamos muchos datos en general, y en algunas clases se tiene una cantidad muy pequeña (Nick Fury y Hawkeye), lo cual perjudica mucho a SVM en aquellas predicciones.\n",
        "El problema en sí afectó al rendimiento del modelo por su alta complejidad y posible poca relación entre los datos de las clases. Debido a que habían muchas variaciones en las imágenes de un mismo avenger como se mencionó, es sumamente complejo para SVM hallar una función kernel que pueda clasificar de forma óptima los datos, al menos con la capacidad de mi ordenador.\n",
        "\n"
      ]
    },
    {
      "cell_type": "markdown",
      "metadata": {
        "id": "Kyrq5e_G93Jk"
      },
      "source": [
        "#Actividad 5 - Matrices de confusión"
      ]
    },
    {
      "cell_type": "markdown",
      "metadata": {
        "id": "ZyonD3tfC2a1"
      },
      "source": [
        "A continuación, vamos a revisar la matriz de confusión de los distintos modelos, para analizar su rendimiento en los diversos avengers y poder hacer un análisis valioso de los resultados."
      ]
    },
    {
      "cell_type": "code",
      "execution_count": null,
      "metadata": {
        "colab": {
          "background_save": true
        },
        "id": "r95p70tr93Jk"
      },
      "outputs": [],
      "source": [
        "from sklearn.metrics import confusion_matrix, ConfusionMatrixDisplay\n",
        "\n",
        "cm_decision_tree = confusion_matrix(y_test, decision_tree_predicted)\n",
        "cm_random_forest = confusion_matrix(y_test, forest_predicted)\n",
        "cm_gradient_boost = confusion_matrix(y_test, gradient_predicted)\n",
        "cm_knn = confusion_matrix(y_test, knn_predicted)\n",
        "cm_svm = confusion_matrix(y_test, svm_predicted)"
      ]
    },
    {
      "cell_type": "markdown",
      "metadata": {
        "id": "6MCnL8vJKBqx"
      },
      "source": [
        "Para mostrar mejor las matrices de confusión, veremos en que orden se muestran los labels de los avengers, y así agregarlos a la representación."
      ]
    },
    {
      "cell_type": "code",
      "execution_count": null,
      "metadata": {
        "colab": {
          "background_save": true
        },
        "id": "m07cow2eJzbM"
      },
      "outputs": [],
      "source": [
        "import numpy as np\n",
        "row_sums = np.sum(cm_decision_tree, axis=1)\n",
        "print(row_sums)"
      ]
    },
    {
      "cell_type": "code",
      "execution_count": null,
      "metadata": {
        "colab": {
          "background_save": true
        },
        "id": "kloufYiRJNZ7"
      },
      "outputs": [],
      "source": [
        "print(y_test.value_counts())"
      ]
    },
    {
      "cell_type": "markdown",
      "metadata": {
        "id": "XQ-9-1ahKTG2"
      },
      "source": [
        "Ahora mostraremos todas las matrices de confusión:"
      ]
    },
    {
      "cell_type": "markdown",
      "metadata": {
        "id": "lVMfI4A9NdAn"
      },
      "source": [
        "### Decision Tree"
      ]
    },
    {
      "cell_type": "code",
      "execution_count": null,
      "metadata": {
        "colab": {
          "background_save": true
        },
        "id": "y8J2OFEIDpl1"
      },
      "outputs": [],
      "source": [
        "import matplotlib.pyplot as plt\n",
        "\n",
        "# labels que usaremos\n",
        "avengers_labels = ['Black Widow', 'Captain America', 'Hawkeye', 'Hulk', 'Ironman', 'Nick Fury', 'Thor']\n",
        "\n",
        "print(\"Confusion Matrix - Decision Tree:\")\n",
        "disp_dt = ConfusionMatrixDisplay(confusion_matrix=cm_decision_tree, display_labels=avengers_labels)\n",
        "disp_dt.plot()\n",
        "plt.xticks(rotation=90, ha='right')\n",
        "plt.tight_layout()\n",
        "plt.show()"
      ]
    },
    {
      "cell_type": "markdown",
      "metadata": {
        "id": "oxJvIGT8So0B"
      },
      "source": [
        "Podemos apreciar claramente que Ironman es el avenger que tuvo un mejor rendimiento, pues también era por bastante el que más imágenes teníamos para entrenar al modelo. Por otro lado, el modelo no acertó a ninguna de las 9 imágenes de Nick Fury, donde los confundió con Hulk y Black Widow. También noto que habian bastantes confusiones entre Thor, Ironman y Capitán America. Es visible que Hulk también fue comunmente confundido, pero en menor medida que los 3 mencionados.\n",
        "\n",
        "Destaco el rendimiento de Black Widow, que a pesar de tener menos datos que Capitan America, y levemente más que Thor y Hulk, logró acertar bastantes labels. Esto probablemente se deba a que es la única personaje mujer, por lo que tiene facciones de la cara más diferenciables de los demás. Es curioso que se haya confundido bastante con Hulk."
      ]
    },
    {
      "cell_type": "markdown",
      "metadata": {
        "id": "MOxZ_rFdNihv"
      },
      "source": [
        "### Random Forest"
      ]
    },
    {
      "cell_type": "code",
      "execution_count": null,
      "metadata": {
        "colab": {
          "background_save": true
        },
        "id": "LdkhkAXFLnDt"
      },
      "outputs": [],
      "source": [
        "print(\"Confusion Matrix - Random Forest:\")\n",
        "disp_forest = ConfusionMatrixDisplay(confusion_matrix=cm_random_forest, display_labels=avengers_labels)\n",
        "disp_forest.plot()\n",
        "plt.xticks(rotation=90, ha='right')\n",
        "plt.tight_layout()\n",
        "plt.show()"
      ]
    },
    {
      "cell_type": "markdown",
      "metadata": {
        "id": "Ja6CODK6VXTU"
      },
      "source": [
        "Nuevamente Ironman tuvo un buen rendimiento, debido a la gran cantidad de datos que se poseían de este avenger para entrenar al modelo. Es apreciable como muchos avengers fueron confundidos por ironman, debido a aquella diferencia en los datos. Su rendimiento es el mejor, pero solo un poco por encima del rendimiento en predecir a black widow, ambos sobre un poco más de 80% de rendimiento. Eso sí, habían muchas menos imágenes de black widow en entrenamiento, por lo que si hubiesemos tenido más, probablemente el rendimiento hubiese sido notablemente mejor en aquel avenger.\n",
        "\n",
        "Esta vez si se logró predecir un par de datos de Nick Fury, pero sigue siendo menos del 20% de eficiencia, lo cual es muy pobre, pero no hay mucho que hacer dada la poca cantidad de imágenes disponibles para entrenar. No obstante, el rendimiento de Hawkeye empeoró en relación al Decision Tree, donde este modelo creyo que estaba frente a Ironman más veces que las que efectivamente estaba frente a landmarks de Hawkeye. En este caso el rendimiento fue de apenas un 25%.\n",
        "\n",
        "Cabe mencionar que Random Forest fue el modelo con un mejor rendimiento. El rendimiento de Decision Tree por si solo no fue tan malo, ni el peor. Por lo tanto, al hacer un ensamble de estos árboles, se logró llegar al mejor rendimiento de este experimento."
      ]
    },
    {
      "cell_type": "markdown",
      "metadata": {
        "id": "c7FbE5BwNwr3"
      },
      "source": [
        "### Gradient Boosting"
      ]
    },
    {
      "cell_type": "code",
      "execution_count": null,
      "metadata": {
        "colab": {
          "background_save": true
        },
        "id": "-HUWxjxWMCNY"
      },
      "outputs": [],
      "source": [
        "print(\"Confusion Matrix - Gradient Boosting:\")\n",
        "disp_gradient_boost = ConfusionMatrixDisplay(confusion_matrix=cm_gradient_boost, display_labels=avengers_labels)\n",
        "disp_gradient_boost.plot()\n",
        "plt.xticks(rotation=90, ha='right')\n",
        "plt.tight_layout()\n",
        "plt.show()"
      ]
    },
    {
      "cell_type": "markdown",
      "metadata": {
        "id": "1lKVOGJWarKo"
      },
      "source": [
        "El Gradient Boosting tuvo un leve peor rendimiento que el Random Forest. Su rendimiento mejoró en predecir a Ironman y Hulk, se mantuvo en Hawkeye, pero empeoró en cuanto a predecir a los demás avengers. El rendimiento, sin ser novedad, de nuevo el peor fue en Nick Fury y el mejor en Thor.\n",
        "Las confusiones siguen siendo las mismas principalmente. Podemos ver que en este caso el modelo se equivocó bastante en predecir a Thor, donde lo confundió con Ironman y Capitan America nuevamente.\n",
        "\n",
        "El rendimiento de este modelo fue levemente peor que el de Random Forest porque las proporciones obtenidas de los landmarks probablemente si tenían cierta relacion entre sí, por lo que el modelo no tuvo la habilidad de reconocer esos patrones tan bien como Random Forest. Aún así, tuvo un mejor rendimiento en la clase con las que más datos había: Ironman.\n",
        "\n",
        "\n"
      ]
    },
    {
      "cell_type": "markdown",
      "metadata": {
        "id": "DlOgBxmCNzbW"
      },
      "source": [
        "### KNN"
      ]
    },
    {
      "cell_type": "code",
      "execution_count": null,
      "metadata": {
        "colab": {
          "background_save": true
        },
        "id": "BijDZZpIM8-2"
      },
      "outputs": [],
      "source": [
        "print(\"Confusion Matrix - KNN:\")\n",
        "disp_knn = ConfusionMatrixDisplay(confusion_matrix=cm_knn, display_labels=avengers_labels)\n",
        "disp_knn.plot()\n",
        "plt.xticks(rotation=90, ha='right')\n",
        "plt.tight_layout()\n",
        "plt.show()"
      ]
    },
    {
      "cell_type": "markdown",
      "metadata": {
        "id": "D6qJk-YPmvyh"
      },
      "source": [
        "El rendimiento de este modelo fue de 63%. Podemos ver como se mantienen los patrones de cuales son los avengers que mejor y pero se logró predecir. Lo curioso es que acá fue más común confundir a todos los labels con Black Widow, puede apreciarse como la columna de más a la izquierda tiene los números más altos que los demás modelos. Esto puede deberse a que el modelo está algo sesgado en aquellos datos.\n",
        "\n",
        "El rendimiento de KNN en general no fue tan malo, pero definitivamente le perjudicó que los datos de entrenamiento estén en cantidades desbalanceadas, habían muchos más datos de algunos avengers que de otros, por lo que para KNN era muy fácil confundir estos valores por otros incorrectos. También al haber una cantidad considerable de labels posibles (7), esto hizo que la densidad de los espacios sea más escasa, por lo que la clasificación basada en distancia tuvo problemas. Su rendimiento debería haber sido considerablemente mejor si es que hubiesemos tenido menos avengers que predecir."
      ]
    },
    {
      "cell_type": "markdown",
      "metadata": {
        "id": "CvGRjGCRN1Fd"
      },
      "source": [
        "### SVM"
      ]
    },
    {
      "cell_type": "code",
      "execution_count": null,
      "metadata": {
        "colab": {
          "background_save": true
        },
        "id": "xqiIHr07NExg"
      },
      "outputs": [],
      "source": [
        "print(\"Confusion Matrix - SVM:\")\n",
        "disp_svm = ConfusionMatrixDisplay(confusion_matrix=cm_svm, display_labels=avengers_labels)\n",
        "disp_svm.plot()\n",
        "plt.xticks(rotation=90, ha='right')\n",
        "plt.tight_layout()\n",
        "plt.show()"
      ]
    },
    {
      "cell_type": "markdown",
      "metadata": {
        "id": "BhZi-TQAsPGw"
      },
      "source": [
        "Este fue el modelo con peor rendimiento. No obstante, podemos ver que fue excelente en Ironman y Black Widow, pero muy deficiente en los demás avengers. Es visible que confundió a todos las clases en gran medida por Ironman, ya que era el que tenía, con diferencia, mas datos.\n",
        "\n",
        "Este notable imbalance en la cantidad de datos de entrenamiento en las distintas clases produjo un importante sesgo en el proceso de aprendizaje, por lo que el rendimiento en las clases con menos datos fue considerablemente peor. También puede que las features en sí nno hayan sido las mejores para SVM, que suele verse afectado en mayor medida que otros modelos en cuanto a su precisión.\n",
        "\n",
        "Puede verse el pésimo rendimiento en Hawkeye y Nick Fury, las clases más infrarepresentadas de los datos de entrenamiento, probablemente al gran sesgo que el modelo aprendió."
      ]
    },
    {
      "cell_type": "markdown",
      "metadata": {
        "id": "NDOJaZLC93OE"
      },
      "source": [
        "#Actividad 6 - Análisis de las features"
      ]
    },
    {
      "cell_type": "markdown",
      "metadata": {
        "id": "g5vo4lDxvzDU"
      },
      "source": [
        "El método LIME es usado para explicar las predicciones de los modelos de machine learning, interpretando de manera local a nivel de instancia. Intenta responder la simple pregunta: ¿Por qué el modelo realizó esta predicción en particular para esta instancia específica?\n",
        "\n",
        "Intentaremos hacer un análisis de cuanto afectan las features para todos las clases, para así ver que features fueron positivas y negativas en las distintas clasificaciones hechas por los diversos modelos que entrenamos.\n"
      ]
    },
    {
      "cell_type": "markdown",
      "metadata": {
        "id": "lMs-hGgX3hOT"
      },
      "source": [
        "Recordemos que los labels de los avengers son interpretados con los siguientes números:\n",
        "* 0: Black Widow\n",
        "* 1: Captain America\n",
        "* 2: Hawkeye\n",
        "* 3: Hulk\n",
        "* 4: Ironman\n",
        "* 5: Nick Fury\n",
        "* 6: Thor"
      ]
    },
    {
      "cell_type": "code",
      "execution_count": null,
      "metadata": {
        "colab": {
          "background_save": true
        },
        "id": "0HSATJJX3sHT"
      },
      "outputs": [],
      "source": [
        "# definimos una función que obtiene los valores de posicion de todos los labels, para tener ejemplos de cada uno e ir probando\n",
        "\n",
        "def get_lowest_position_values(series):\n",
        "    lowest_position_values = {}\n",
        "\n",
        "    unique_labels = series.unique()\n",
        "    series = series.reset_index(drop=True)\n",
        "\n",
        "    for label in unique_labels:\n",
        "        positions = series[series == label].index\n",
        "        lowest_position = positions.min()\n",
        "        lowest_position_values[label] = lowest_position\n",
        "\n",
        "    return lowest_position_values"
      ]
    },
    {
      "cell_type": "code",
      "execution_count": null,
      "metadata": {
        "colab": {
          "background_save": true
        },
        "id": "VQUEBh9X6YWa"
      },
      "outputs": [],
      "source": [
        "experiment_y_test = y_test # definimos una copia de y_test para no cambiar sus verdaderos valores de index\n",
        "lowest_position_values = get_lowest_position_values(experiment_y_test)\n",
        "print(lowest_position_values)"
      ]
    },
    {
      "cell_type": "markdown",
      "metadata": {
        "id": "lOEXa-y49hjq"
      },
      "source": [
        "Ahora que conocemos las ubicaciones de instancias de todas las clases, podemos hacer LIME para cada instancia, y así analizar el efecto de las features en cada modelo en particular, para todas las clases."
      ]
    },
    {
      "cell_type": "code",
      "execution_count": null,
      "metadata": {
        "colab": {
          "background_save": true
        },
        "id": "OXiN3XfE93OF"
      },
      "outputs": [],
      "source": [
        "# ahora instalamos Lime\n",
        "!pip install lime"
      ]
    },
    {
      "cell_type": "markdown",
      "metadata": {
        "id": "nQFx3y97qgQ_"
      },
      "source": [
        "El modulo Lime mediante sus funciones, permite ver como fue el impacto de las features en una predicción en específico, de la siguiente forma:"
      ]
    },
    {
      "cell_type": "markdown",
      "metadata": {
        "id": "f8348RQ4q8Zt"
      },
      "source": [
        "![Captura de Pantalla 2023-06-16 a la(s) 10.45.40 a. m..png](data:image/png;base64,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)"
      ]
    },
    {
      "cell_type": "markdown",
      "metadata": {
        "id": "gSumchEVst6A"
      },
      "source": [
        "![Captura de Pantalla 2023-06-16 a la(s) 10.53.42 a. m..png](data:image/png;base64,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)"
      ]
    },
    {
      "cell_type": "markdown",
      "metadata": {
        "id": "GvBofgZYrLwz"
      },
      "source": [
        "* A la izquierda, se ve el valor predecido, que en nuestro caso se verá distinto al hacer modelos de clasificación.\n",
        "* A la derecha arriba, se ve el efecto de las features: puede ser negativo y positivo.\n",
        "* También haciendo **exp.as_list()** podemos ver para todas las features con efecto negativo los valores que debieron haber tenido para causar un impacto positivo en la predicción. Esto es útil porque así sabemos si esos valores fueron más altos o más bajos de lo esperado.\n",
        "En el ejemplo mostrado, **num_reviews** tuvo un efecto negativo, ya que su valor fue <= 7.00. Por lo tanto, es posible concluir que se esperaba un valor más alto en aquella feature.\n"
      ]
    },
    {
      "cell_type": "markdown",
      "metadata": {
        "id": "bz81gcnD2fVB"
      },
      "source": [
        "## Decision Tree"
      ]
    },
    {
      "cell_type": "code",
      "execution_count": null,
      "metadata": {
        "colab": {
          "background_save": true
        },
        "id": "fH64csNUy-ol"
      },
      "outputs": [],
      "source": [
        "# creamos un explainer que usaremos para todos los modelos, basado en nuestros datos\n",
        "from lime import lime_tabular\n",
        "import numpy as np\n",
        "\n",
        "explainer = lime_tabular.LimeTabularExplainer(training_data=np.array(X_train),\n",
        "                                                            mode='classification',\n",
        "                                                            feature_names = X_train.columns,\n",
        "                                                            categorical_features=y_train)"
      ]
    },
    {
      "cell_type": "markdown",
      "metadata": {
        "id": "ip1wEhcd973Y"
      },
      "source": [
        "### Ironman"
      ]
    },
    {
      "cell_type": "code",
      "execution_count": null,
      "metadata": {
        "colab": {
          "background_save": true
        },
        "id": "_mMhV7RWz7Qc"
      },
      "outputs": [],
      "source": [
        "dt_exp = explainer.explain_instance(data_row=X_test.iloc[0],\n",
        "                                                  predict_fn=tree.predict_proba)\n",
        "dt_exp.show_in_notebook(show_table=True)\n",
        "print()\n",
        "dt_exp.as_list()"
      ]
    },
    {
      "cell_type": "markdown",
      "metadata": {
        "id": "zp-wrorLnIzc"
      },
      "source": [
        "En este ejemplo, el modelo se equivocó. Predijo Thor para una instancia de Ironman."
      ]
    },
    {
      "cell_type": "markdown",
      "metadata": {
        "id": "gAb9P9oInsZB"
      },
      "source": [
        "### Hulk"
      ]
    },
    {
      "cell_type": "code",
      "execution_count": null,
      "metadata": {
        "colab": {
          "background_save": true
        },
        "id": "Hhc51mSanxCr"
      },
      "outputs": [],
      "source": [
        "dt_exp = explainer.explain_instance(data_row=X_test.iloc[1],\n",
        "                                                  predict_fn=tree.predict_proba)\n",
        "dt_exp.show_in_notebook(show_table=True)\n",
        "print()\n",
        "dt_exp.as_list()"
      ]
    },
    {
      "cell_type": "markdown",
      "metadata": {
        "id": "86ZTmraUn396"
      },
      "source": [
        "Un ejemplo de un acierto exitoso de Hulk."
      ]
    },
    {
      "cell_type": "markdown",
      "metadata": {
        "id": "2vmCjuhyoFqk"
      },
      "source": [
        "### Captain America"
      ]
    },
    {
      "cell_type": "code",
      "execution_count": null,
      "metadata": {
        "colab": {
          "background_save": true
        },
        "id": "RVPJC9gLovV1"
      },
      "outputs": [],
      "source": [
        "dt_exp = explainer.explain_instance(data_row=X_test.iloc[7],\n",
        "                                                  predict_fn=tree.predict_proba)\n",
        "dt_exp.show_in_notebook(show_table=True)\n",
        "print()\n",
        "dt_exp.as_list()"
      ]
    },
    {
      "cell_type": "markdown",
      "metadata": {
        "id": "BFvS8XCyo4nD"
      },
      "source": [
        "Ejemplo de un acierto del modelo para esta clase."
      ]
    },
    {
      "cell_type": "markdown",
      "metadata": {
        "id": "fLpiIwMuo9hQ"
      },
      "source": [
        "### Thor"
      ]
    },
    {
      "cell_type": "code",
      "execution_count": null,
      "metadata": {
        "colab": {
          "background_save": true
        },
        "id": "1ujrBghco_Ak"
      },
      "outputs": [],
      "source": [
        "dt_exp = explainer.explain_instance(data_row=X_test.iloc[10],\n",
        "                                                  predict_fn=tree.predict_proba)\n",
        "dt_exp.show_in_notebook(show_table=True)\n",
        "print()\n",
        "dt_exp.as_list()"
      ]
    },
    {
      "cell_type": "markdown",
      "metadata": {
        "id": "mqFir06wpELr"
      },
      "source": [
        "Aquí el modelo confundió a Thor por Hulk (3)."
      ]
    },
    {
      "cell_type": "markdown",
      "metadata": {
        "id": "p5IihasmpOH5"
      },
      "source": [
        "### Black Widow"
      ]
    },
    {
      "cell_type": "code",
      "execution_count": null,
      "metadata": {
        "colab": {
          "background_save": true
        },
        "id": "BWvypGA4pQfC"
      },
      "outputs": [],
      "source": [
        "dt_exp = explainer.explain_instance(data_row=X_test.iloc[20],\n",
        "                                                  predict_fn=tree.predict_proba)\n",
        "dt_exp.show_in_notebook(show_table=True)\n",
        "print()\n",
        "dt_exp.as_list()"
      ]
    },
    {
      "cell_type": "markdown",
      "metadata": {
        "id": "fcFNSnuKpVlE"
      },
      "source": [
        "Ejemplo de acierto exitoso de Black Widow"
      ]
    },
    {
      "cell_type": "markdown",
      "metadata": {
        "id": "X6JjYiLJper1"
      },
      "source": [
        "### Hawkeye"
      ]
    },
    {
      "cell_type": "code",
      "execution_count": null,
      "metadata": {
        "colab": {
          "background_save": true
        },
        "id": "zhYTEKdapdLC"
      },
      "outputs": [],
      "source": [
        "dt_exp = explainer.explain_instance(data_row=X_test.iloc[27],\n",
        "                                                  predict_fn=tree.predict_proba)\n",
        "dt_exp.show_in_notebook(show_table=True)\n",
        "print()\n",
        "dt_exp.as_list()"
      ]
    },
    {
      "cell_type": "markdown",
      "metadata": {
        "id": "GfmIUXP7pnr4"
      },
      "source": [
        "Aqui el modelo confundió a Hawkeye por Black Widow (0)."
      ]
    },
    {
      "cell_type": "markdown",
      "metadata": {
        "id": "55kZ1y6mpvdI"
      },
      "source": [
        "### Nick Fury"
      ]
    },
    {
      "cell_type": "code",
      "execution_count": null,
      "metadata": {
        "colab": {
          "background_save": true
        },
        "id": "24JHBgHNpynW"
      },
      "outputs": [],
      "source": [
        "dt_exp = explainer.explain_instance(data_row=X_test.iloc[109],\n",
        "                                                  predict_fn=tree.predict_proba)\n",
        "dt_exp.show_in_notebook(show_table=True)\n",
        "print()\n",
        "dt_exp.as_list()"
      ]
    },
    {
      "cell_type": "markdown",
      "metadata": {
        "id": "K4bjCOmIp5BH"
      },
      "source": [
        "El modelo confundió a Nick Fury por Ironman (4)."
      ]
    },
    {
      "cell_type": "markdown",
      "metadata": {
        "id": "bCfUGlNkxpPD"
      },
      "source": [
        "## Random Forest"
      ]
    },
    {
      "cell_type": "markdown",
      "metadata": {
        "id": "-1SN668ax9Sb"
      },
      "source": [
        "### Ironman"
      ]
    },
    {
      "cell_type": "code",
      "execution_count": null,
      "metadata": {
        "colab": {
          "background_save": true
        },
        "id": "hOtvkG1Kxq7S"
      },
      "outputs": [],
      "source": [
        "forest_exp = explainer.explain_instance(data_row=X_test.iloc[0],\n",
        "                                                  predict_fn=forest.predict_proba)\n",
        "forest_exp.show_in_notebook(show_table=True)\n",
        "print()\n",
        "forest_exp.as_list()"
      ]
    },
    {
      "cell_type": "markdown",
      "metadata": {
        "id": "PM5d4BXRyLbd"
      },
      "source": [
        "Un ejemplo de acierto exitoso de Ironman por parte de Random Forest."
      ]
    },
    {
      "cell_type": "markdown",
      "metadata": {
        "id": "y_6yNAplyQi3"
      },
      "source": [
        "### Hulk"
      ]
    },
    {
      "cell_type": "code",
      "execution_count": null,
      "metadata": {
        "colab": {
          "background_save": true
        },
        "id": "Y5gG207ByTYQ"
      },
      "outputs": [],
      "source": [
        "forest_exp = explainer.explain_instance(data_row=X_test.iloc[1],\n",
        "                                                  predict_fn=forest.predict_proba)\n",
        "forest_exp.show_in_notebook(show_table=True)\n",
        "print()\n",
        "forest_exp.as_list()"
      ]
    },
    {
      "cell_type": "markdown",
      "metadata": {
        "id": "xAQf5ySMyfhP"
      },
      "source": [
        "Un ejemplo de acierto exitoso de Hulk por parte de Random Forest."
      ]
    },
    {
      "cell_type": "markdown",
      "metadata": {
        "id": "Zq44bY6nyoy7"
      },
      "source": [
        "### Captain America"
      ]
    },
    {
      "cell_type": "code",
      "execution_count": null,
      "metadata": {
        "colab": {
          "background_save": true
        },
        "id": "MassuzlayqeB"
      },
      "outputs": [],
      "source": [
        "forest_exp = explainer.explain_instance(data_row=X_test.iloc[7],\n",
        "                                                  predict_fn=forest.predict_proba)\n",
        "forest_exp.show_in_notebook(show_table=True)\n",
        "print()\n",
        "forest_exp.as_list()"
      ]
    },
    {
      "cell_type": "markdown",
      "metadata": {
        "id": "ssTiYnNeyviT"
      },
      "source": [
        "Un ejemplo de acierto exitoso de Captain America por parte de Random Forest."
      ]
    },
    {
      "cell_type": "markdown",
      "metadata": {
        "id": "qdmeCx1myz7d"
      },
      "source": [
        "### Thor"
      ]
    },
    {
      "cell_type": "code",
      "execution_count": null,
      "metadata": {
        "colab": {
          "background_save": true
        },
        "id": "xgCOjz3ay1U3"
      },
      "outputs": [],
      "source": [
        "forest_exp = explainer.explain_instance(data_row=X_test.iloc[10],\n",
        "                                                  predict_fn=forest.predict_proba)\n",
        "forest_exp.show_in_notebook(show_table=True)\n",
        "print()\n",
        "forest_exp.as_list()"
      ]
    },
    {
      "cell_type": "markdown",
      "metadata": {
        "id": "hjKBAO3ay4fG"
      },
      "source": [
        "En este ejemplo, el modelo predijo Ironman para una instancia de Thor."
      ]
    },
    {
      "cell_type": "markdown",
      "metadata": {
        "id": "lqbYKlPezAm6"
      },
      "source": [
        "### Black Widow"
      ]
    },
    {
      "cell_type": "code",
      "execution_count": null,
      "metadata": {
        "colab": {
          "background_save": true
        },
        "id": "v5xv4E54zCvm"
      },
      "outputs": [],
      "source": [
        "forest_exp = explainer.explain_instance(data_row=X_test.iloc[20],\n",
        "                                                  predict_fn=forest.predict_proba)\n",
        "forest_exp.show_in_notebook(show_table=True)\n",
        "print()\n",
        "forest_exp.as_list()"
      ]
    },
    {
      "cell_type": "markdown",
      "metadata": {
        "id": "jBfbxmrDzMJT"
      },
      "source": [
        "Un acierto exitoso de una instancia de Black Widow."
      ]
    },
    {
      "cell_type": "markdown",
      "metadata": {
        "id": "BSiW4QECzPP3"
      },
      "source": [
        "### Hawkeye"
      ]
    },
    {
      "cell_type": "code",
      "execution_count": null,
      "metadata": {
        "colab": {
          "background_save": true
        },
        "id": "dzaoxPTLzRDX"
      },
      "outputs": [],
      "source": [
        "forest_exp = explainer.explain_instance(data_row=X_test.iloc[27],\n",
        "                                                  predict_fn=forest.predict_proba)\n",
        "forest_exp.show_in_notebook(show_table=True)\n",
        "print()\n",
        "forest_exp.as_list()"
      ]
    },
    {
      "cell_type": "markdown",
      "metadata": {
        "id": "iv6BGsblzbTV"
      },
      "source": [
        "En este ejemplo, el modelo se equivocó al predecir una instancia de Hawkeye como Black Widow. Podemos ver que no estuvo ni cerca de acertar."
      ]
    },
    {
      "cell_type": "markdown",
      "metadata": {
        "id": "xLX6AW97zWew"
      },
      "source": [
        "### Nick Fury"
      ]
    },
    {
      "cell_type": "code",
      "execution_count": null,
      "metadata": {
        "colab": {
          "background_save": true
        },
        "id": "Z_bJAaeSzZpx"
      },
      "outputs": [],
      "source": [
        "forest_exp = explainer.explain_instance(data_row=X_test.iloc[109],\n",
        "                                                  predict_fn=forest.predict_proba)\n",
        "forest_exp.show_in_notebook(show_table=True)\n",
        "print()\n",
        "forest_exp.as_list()"
      ]
    },
    {
      "cell_type": "markdown",
      "metadata": {
        "id": "ZPLvxaYezpwW"
      },
      "source": [
        "En este ejemplo, el modelo se equivocó al predecir una instancia de Nick Fury como Ironman. Podemos ver que no estuvo ni cerca de acertar."
      ]
    },
    {
      "cell_type": "markdown",
      "metadata": {
        "id": "LGxPVLkuztn3"
      },
      "source": [
        "## Gradient Boosting"
      ]
    },
    {
      "cell_type": "markdown",
      "metadata": {
        "id": "gYBOeelxzz6o"
      },
      "source": [
        "### Ironman"
      ]
    },
    {
      "cell_type": "code",
      "execution_count": null,
      "metadata": {
        "colab": {
          "background_save": true
        },
        "id": "UnD6_hnXz4Ev"
      },
      "outputs": [],
      "source": [
        "gradient_exp = explainer.explain_instance(data_row=X_test.iloc[0],\n",
        "                                                  predict_fn=gboost.predict_proba)\n",
        "gradient_exp.show_in_notebook(show_table=True)\n",
        "print()\n",
        "gradient_exp.as_list()"
      ]
    },
    {
      "cell_type": "markdown",
      "metadata": {
        "id": "snqZ6wVO0HWW"
      },
      "source": [
        "Un acierto exitoso de una instancia de Ironman por parte de Gradient Boosting."
      ]
    },
    {
      "cell_type": "markdown",
      "metadata": {
        "id": "KbPg7gq20MT9"
      },
      "source": [
        "### Hulk"
      ]
    },
    {
      "cell_type": "code",
      "execution_count": null,
      "metadata": {
        "colab": {
          "background_save": true
        },
        "id": "bXssscbE0OHC"
      },
      "outputs": [],
      "source": [
        "gradient_exp = explainer.explain_instance(data_row=X_test.iloc[1],\n",
        "                                                  predict_fn=gboost.predict_proba)\n",
        "gradient_exp.show_in_notebook(show_table=True)\n",
        "print()\n",
        "gradient_exp.as_list()"
      ]
    },
    {
      "cell_type": "markdown",
      "metadata": {
        "id": "jxmlJV4x0VUx"
      },
      "source": [
        "Un acierto exitoso de una instancia de Hulk, pero bastante cerca de confundirse con Captain America."
      ]
    },
    {
      "cell_type": "markdown",
      "metadata": {
        "id": "VGYDOhFj0gU4"
      },
      "source": [
        "### Captain America"
      ]
    },
    {
      "cell_type": "code",
      "execution_count": null,
      "metadata": {
        "colab": {
          "background_save": true
        },
        "id": "sqiBxEPq0i5G"
      },
      "outputs": [],
      "source": [
        "gradient_exp = explainer.explain_instance(data_row=X_test.iloc[7],\n",
        "                                                  predict_fn=gboost.predict_proba)\n",
        "gradient_exp.show_in_notebook(show_table=True)\n",
        "print()\n",
        "gradient_exp.as_list()"
      ]
    },
    {
      "cell_type": "markdown",
      "metadata": {
        "id": "RKmidqpQ0ohJ"
      },
      "source": [
        "Un acierto exitoso de una instancia de Capitan America."
      ]
    },
    {
      "cell_type": "markdown",
      "metadata": {
        "id": "CB7DVcV10stH"
      },
      "source": [
        "### Thor"
      ]
    },
    {
      "cell_type": "code",
      "execution_count": null,
      "metadata": {
        "colab": {
          "background_save": true
        },
        "id": "U5FyVH1B0uXG"
      },
      "outputs": [],
      "source": [
        "gradient_exp = explainer.explain_instance(data_row=X_test.iloc[10],\n",
        "                                                  predict_fn=gboost.predict_proba)\n",
        "gradient_exp.show_in_notebook(show_table=True)\n",
        "print()\n",
        "gradient_exp.as_list()"
      ]
    },
    {
      "cell_type": "markdown",
      "metadata": {
        "id": "SCLiRMLV01DF"
      },
      "source": [
        "Aqui el modelo se equivocó, al predecir Ironman para una instancia de Thor."
      ]
    },
    {
      "cell_type": "markdown",
      "metadata": {
        "id": "7IHVseTX07Z2"
      },
      "source": [
        "### Black Widow"
      ]
    },
    {
      "cell_type": "code",
      "execution_count": null,
      "metadata": {
        "colab": {
          "background_save": true
        },
        "id": "Zw3NJjR51Ar5"
      },
      "outputs": [],
      "source": [
        "gradient_exp = explainer.explain_instance(data_row=X_test.iloc[20],\n",
        "                                                  predict_fn=gboost.predict_proba)\n",
        "gradient_exp.show_in_notebook(show_table=True)\n",
        "print()\n",
        "gradient_exp.as_list()"
      ]
    },
    {
      "cell_type": "markdown",
      "metadata": {
        "id": "yOS5765L1dGo"
      },
      "source": [
        "Un sólido acierto de una instancia de Black Widow."
      ]
    },
    {
      "cell_type": "markdown",
      "metadata": {
        "id": "mlgBsQVW1lyO"
      },
      "source": [
        "### Hawkeye"
      ]
    },
    {
      "cell_type": "code",
      "execution_count": null,
      "metadata": {
        "colab": {
          "background_save": true
        },
        "id": "zPBr0PrW1nRI"
      },
      "outputs": [],
      "source": [
        "gradient_exp = explainer.explain_instance(data_row=X_test.iloc[27],\n",
        "                                                  predict_fn=gboost.predict_proba)\n",
        "gradient_exp.show_in_notebook(show_table=True)\n",
        "print()\n",
        "gradient_exp.as_list()"
      ]
    },
    {
      "cell_type": "markdown",
      "metadata": {
        "id": "IS2fBrKj1rUJ"
      },
      "source": [
        "Aqui el modelo estaba totalmente convencido de encontrarse con una instancia de Black Widow, cuando en realidad era de Hawkeye."
      ]
    },
    {
      "cell_type": "markdown",
      "metadata": {
        "id": "1chCAxxb1x-C"
      },
      "source": [
        "### Nick Fury"
      ]
    },
    {
      "cell_type": "code",
      "execution_count": null,
      "metadata": {
        "colab": {
          "background_save": true
        },
        "id": "D3AIWE3W1zOQ"
      },
      "outputs": [],
      "source": [
        "gradient_exp = explainer.explain_instance(data_row=X_test.iloc[109],\n",
        "                                                  predict_fn=gboost.predict_proba)\n",
        "gradient_exp.show_in_notebook(show_table=True)\n",
        "print()\n",
        "gradient_exp.as_list()"
      ]
    },
    {
      "cell_type": "markdown",
      "metadata": {
        "id": "9otEtX5z123_"
      },
      "source": [
        "Un error intentando predecir una instancia de Nick Fury. Podemos ver que no estuvo ni cerca de acertar."
      ]
    },
    {
      "cell_type": "markdown",
      "metadata": {
        "id": "quso2hfr190o"
      },
      "source": [
        "## KNN"
      ]
    },
    {
      "cell_type": "markdown",
      "metadata": {
        "id": "a2d7-JZe2sBV"
      },
      "source": [
        "### Ironman"
      ]
    },
    {
      "cell_type": "code",
      "execution_count": null,
      "metadata": {
        "colab": {
          "background_save": true
        },
        "id": "KOcoJtHl1_zf"
      },
      "outputs": [],
      "source": [
        "knn_exp = explainer.explain_instance(data_row=X_test.iloc[0],\n",
        "                                                  predict_fn=knn.predict_proba)\n",
        "knn_exp.show_in_notebook(show_table=True)\n",
        "print()\n",
        "knn_exp.as_list()"
      ]
    },
    {
      "cell_type": "markdown",
      "metadata": {
        "id": "xEVSnrPb2vOX"
      },
      "source": [
        "Un acierto exitoso de una instancia de Ironman."
      ]
    },
    {
      "cell_type": "markdown",
      "metadata": {
        "id": "-QM8B6qf2xws"
      },
      "source": [
        "### Hulk"
      ]
    },
    {
      "cell_type": "code",
      "execution_count": null,
      "metadata": {
        "colab": {
          "background_save": true
        },
        "id": "yNmm5BjT2zOa"
      },
      "outputs": [],
      "source": [
        "knn_exp = explainer.explain_instance(data_row=X_test.iloc[1],\n",
        "                                                  predict_fn=knn.predict_proba)\n",
        "knn_exp.show_in_notebook(show_table=True)\n",
        "print()\n",
        "knn_exp.as_list()"
      ]
    },
    {
      "cell_type": "markdown",
      "metadata": {
        "id": "wV34U0uv28l5"
      },
      "source": [
        "Un acierto exitoso de una instancia de Hulk."
      ]
    },
    {
      "cell_type": "markdown",
      "metadata": {
        "id": "MQTpyraw3CTf"
      },
      "source": [
        "### Captain America"
      ]
    },
    {
      "cell_type": "code",
      "execution_count": null,
      "metadata": {
        "id": "intDMSwH3Bu6"
      },
      "outputs": [],
      "source": [
        "knn_exp = explainer.explain_instance(data_row=X_test.iloc[7],\n",
        "                                                  predict_fn=knn.predict_proba)\n",
        "knn_exp.show_in_notebook(show_table=True)\n",
        "print()\n",
        "knn_exp.as_list()"
      ]
    },
    {
      "cell_type": "markdown",
      "metadata": {
        "id": "bUrxjkUv4fp_"
      },
      "source": [
        "Acá el modelo no acertó a una instancia de Capitan America, lo confundió con Thor."
      ]
    },
    {
      "cell_type": "markdown",
      "metadata": {
        "id": "NEsPtKh74nyt"
      },
      "source": [
        "### Thor"
      ]
    },
    {
      "cell_type": "code",
      "execution_count": null,
      "metadata": {
        "id": "ZswJ4oKC4rBd"
      },
      "outputs": [],
      "source": [
        "knn_exp = explainer.explain_instance(data_row=X_test.iloc[10],\n",
        "                                                  predict_fn=knn.predict_proba)\n",
        "knn_exp.show_in_notebook(show_table=True)\n",
        "print()\n",
        "knn_exp.as_list()"
      ]
    },
    {
      "cell_type": "markdown",
      "metadata": {
        "id": "oaGuP37k4vlI"
      },
      "source": [
        "El modelo se equivocó al predecir una instancia de Thor, confundiendose con Ironman."
      ]
    },
    {
      "cell_type": "markdown",
      "metadata": {
        "id": "eDiMRj_V43AT"
      },
      "source": [
        "### Black Widow"
      ]
    },
    {
      "cell_type": "code",
      "execution_count": null,
      "metadata": {
        "id": "IAMxCvJV44h9"
      },
      "outputs": [],
      "source": [
        "knn_exp = explainer.explain_instance(data_row=X_test.iloc[20],\n",
        "                                                  predict_fn=knn.predict_proba)\n",
        "knn_exp.show_in_notebook(show_table=True)\n",
        "print()\n",
        "knn_exp.as_list()"
      ]
    },
    {
      "cell_type": "markdown",
      "metadata": {
        "id": "kVz9KGE648eC"
      },
      "source": [
        "Acierto exitoso de una instancia de Black Widow."
      ]
    },
    {
      "cell_type": "markdown",
      "metadata": {
        "id": "Cj88Gd4d4-_E"
      },
      "source": [
        "### Hawkeye"
      ]
    },
    {
      "cell_type": "code",
      "execution_count": null,
      "metadata": {
        "id": "-8J7kLoI5AFY"
      },
      "outputs": [],
      "source": [
        "knn_exp = explainer.explain_instance(data_row=X_test.iloc[27],\n",
        "                                                  predict_fn=knn.predict_proba)\n",
        "knn_exp.show_in_notebook(show_table=True)\n",
        "print()\n",
        "knn_exp.as_list()"
      ]
    },
    {
      "cell_type": "markdown",
      "metadata": {
        "id": "EOJPxoG_5GOx"
      },
      "source": [
        "El modelo no estuvo ni cerca en este caso de predecir a la instancia de Hawkeye."
      ]
    },
    {
      "cell_type": "markdown",
      "metadata": {
        "id": "hVZvI0Jd5LQf"
      },
      "source": [
        "### Nick Fury"
      ]
    },
    {
      "cell_type": "code",
      "execution_count": null,
      "metadata": {
        "id": "ZW79WV6q5MjL"
      },
      "outputs": [],
      "source": [
        "knn_exp = explainer.explain_instance(data_row=X_test.iloc[109],\n",
        "                                                  predict_fn=knn.predict_proba)\n",
        "knn_exp.show_in_notebook(show_table=True)\n",
        "print()\n",
        "knn_exp.as_list()"
      ]
    },
    {
      "cell_type": "markdown",
      "metadata": {
        "id": "KeYOce3Q5Roc"
      },
      "source": [
        "El modelo no estuvo ni cerca en este caso de predecir a la instancia de Nick Fury."
      ]
    },
    {
      "cell_type": "markdown",
      "metadata": {
        "id": "P6J14tc55Ubn"
      },
      "source": [
        "## SVM"
      ]
    },
    {
      "cell_type": "markdown",
      "metadata": {
        "id": "LCQbRhLJ9ddK"
      },
      "source": [
        "### Ironman"
      ]
    },
    {
      "cell_type": "code",
      "execution_count": null,
      "metadata": {
        "id": "LyzSpTAsGDIL"
      },
      "outputs": [],
      "source": [
        "# Definimos una función de predicción que convierte los valores de decisión en probabilidades.\n",
        "def predict_fn(X):\n",
        "    decision_values = svm_model.decision_function(X)\n",
        "    probabilities = (decision_values - decision_values.min()) / (decision_values.max() - decision_values.min())\n",
        "    return probabilities"
      ]
    },
    {
      "cell_type": "code",
      "execution_count": null,
      "metadata": {
        "id": "elT0FA-99X6V"
      },
      "outputs": [],
      "source": [
        "svm_exp = explainer.explain_instance(data_row=X_test.iloc[0],\n",
        "                                     predict_fn=predict_fn)\n",
        "svm_exp.show_in_notebook(show_table=True)\n",
        "print()\n",
        "svm_exp.as_list()"
      ]
    },
    {
      "cell_type": "markdown",
      "metadata": {
        "id": "PGcVdEVkMr8y"
      },
      "source": [
        "El modelo predijo Captain America para una instancia de Ironman."
      ]
    },
    {
      "cell_type": "markdown",
      "metadata": {
        "id": "wXmK3JnUMwWB"
      },
      "source": [
        "### Hulk"
      ]
    },
    {
      "cell_type": "code",
      "execution_count": null,
      "metadata": {
        "id": "6nz7SbyQMvbK"
      },
      "outputs": [],
      "source": [
        "svm_exp = explainer.explain_instance(data_row=X_test.iloc[1],\n",
        "                                     predict_fn=predict_fn)\n",
        "svm_exp.show_in_notebook(show_table=True)\n",
        "print()\n",
        "svm_exp.as_list()"
      ]
    },
    {
      "cell_type": "markdown",
      "metadata": {
        "id": "jq6H4-Z3M478"
      },
      "source": [
        "Un ejemplo de una predicción acertada de una instancia de Hulk."
      ]
    },
    {
      "cell_type": "markdown",
      "metadata": {
        "id": "xJK6dLDaM-BY"
      },
      "source": [
        "### Captain America"
      ]
    },
    {
      "cell_type": "code",
      "execution_count": null,
      "metadata": {
        "id": "GpyGKD11NAMt"
      },
      "outputs": [],
      "source": [
        "svm_exp = explainer.explain_instance(data_row=X_test.iloc[7],\n",
        "                                     predict_fn=predict_fn)\n",
        "svm_exp.show_in_notebook(show_table=True)\n",
        "print()\n",
        "svm_exp.as_list()"
      ]
    },
    {
      "cell_type": "markdown",
      "metadata": {
        "id": "7euDO6QENFVK"
      },
      "source": [
        "Un ejemplo de una predicción acertada de una instancia de Captain America."
      ]
    },
    {
      "cell_type": "markdown",
      "metadata": {
        "id": "LhWu6JV2NKAb"
      },
      "source": [
        "### Thor"
      ]
    },
    {
      "cell_type": "code",
      "execution_count": null,
      "metadata": {
        "id": "K83PfjfcNLn9"
      },
      "outputs": [],
      "source": [
        "svm_exp = explainer.explain_instance(data_row=X_test.iloc[10],\n",
        "                                     predict_fn=predict_fn)\n",
        "svm_exp.show_in_notebook(show_table=True)\n",
        "print()\n",
        "svm_exp.as_list()"
      ]
    },
    {
      "cell_type": "markdown",
      "metadata": {
        "id": "xuZs0t8bNUcf"
      },
      "source": [
        "En esta instancia, el modelo se equivocó al confundir un dato de Thor por uno de Ironman. No estuvo muy cerca de acertar."
      ]
    },
    {
      "cell_type": "markdown",
      "metadata": {
        "id": "BZyiha0ANa2n"
      },
      "source": [
        "### Black Widow"
      ]
    },
    {
      "cell_type": "code",
      "execution_count": null,
      "metadata": {
        "id": "U6LFJoHqNaeJ"
      },
      "outputs": [],
      "source": [
        "svm_exp = explainer.explain_instance(data_row=X_test.iloc[20],\n",
        "                                     predict_fn=predict_fn)\n",
        "svm_exp.show_in_notebook(show_table=True)\n",
        "print()\n",
        "svm_exp.as_list()"
      ]
    },
    {
      "cell_type": "markdown",
      "metadata": {
        "id": "vrmiJOl8Ng52"
      },
      "source": [
        "El modelo acertó a esta instancia de Black Widow."
      ]
    },
    {
      "cell_type": "markdown",
      "metadata": {
        "id": "otaV3o4oNjZe"
      },
      "source": [
        "### Hawkeye"
      ]
    },
    {
      "cell_type": "code",
      "execution_count": null,
      "metadata": {
        "id": "BlN4pIUiNkou"
      },
      "outputs": [],
      "source": [
        "svm_exp = explainer.explain_instance(data_row=X_test.iloc[27],\n",
        "                                     predict_fn=predict_fn)\n",
        "svm_exp.show_in_notebook(show_table=True)\n",
        "print()\n",
        "svm_exp.as_list()"
      ]
    },
    {
      "cell_type": "markdown",
      "metadata": {
        "id": "9ZcCi6YNNqTQ"
      },
      "source": [
        "El modelo no estuvo ni cerca de acertar esta instancia de Hawkeye. Predijo finalmente Black Widow."
      ]
    },
    {
      "cell_type": "markdown",
      "metadata": {
        "id": "ilBBHG9kNxKc"
      },
      "source": [
        "### Nick Fury"
      ]
    },
    {
      "cell_type": "code",
      "execution_count": null,
      "metadata": {
        "id": "H3tQuNYpNyiT"
      },
      "outputs": [],
      "source": [
        "svm_exp = explainer.explain_instance(data_row=X_test.iloc[109],\n",
        "                                     predict_fn=predict_fn)\n",
        "svm_exp.show_in_notebook(show_table=True)\n",
        "print()\n",
        "svm_exp.as_list()"
      ]
    },
    {
      "cell_type": "markdown",
      "metadata": {
        "id": "zQWULQfcN2Y8"
      },
      "source": [
        "El modelo no estuvo cerca de predecir correctamente esta instancia de Hawkeye. Terminó optando por Hulk."
      ]
    },
    {
      "cell_type": "markdown",
      "metadata": {
        "id": "gOV7JXvNN_U9"
      },
      "source": [
        "## Conclusiones LIME"
      ]
    },
    {
      "cell_type": "markdown",
      "metadata": {
        "id": "pMam7yshOS5Q"
      },
      "source": [
        "Podemos ver que features como two-axis-proportion y mouth_width_place tuvieron efectos positivos para la gran mayoría de clases en todos los modelos realizados. Es posible decir que esas features fueron valiosas y efectivas.\n",
        "\n",
        "Sin embargo, features como eyebrow_height y orbicular en la mayoría de casos tuvieron un impacto negativo en la predicción de los distintos modelos para las instancias estudiadas. Por ende, se concluye que aquellas features no fueron muy útiles para los modelos.\n",
        "\n",
        "Para Ironman, la clase mas relevante debido a que es la que más datos de entrenamiento tuvo y a la vez que fue la con mejor rendimiento en todos los modelos, podemos ver el impacto de las diversas features:\n",
        "\n",
        "| Feature            | # de impactos positivos  | # de impactos negativos |\n",
        "|-------------------- |----------               |----------|\n",
        "| mouth_width_place   | 4                 | 1   |\n",
        "| eye_space           | 4                 | 1   |\n",
        "| eye_nose_width      | 4                  | 1  |\n",
        "| nose_length         | 1                 | 4   |\n",
        "| eyebrow_height      | 2                  | 3  |\n",
        "| sup_lip             | 3                | 2  |\n",
        "| eyebrow_distance    | 3                 | 2  |\n",
        "| two_axis_proportion | 4                | 1  |\n",
        "| lips_relation       | 1                  | 4  |\n",
        "| orbicular           | 0                  | 5  |\n",
        "\n",
        "Podemos claramente ver cuales son las features que tuvieron más impactos positivos, como también las que tuvieron más impactos negativos.\n",
        "\n"
      ]
    }
  ],
  "metadata": {
    "accelerator": "GPU",
    "colab": {
      "collapsed_sections": [
        "VDPvoTmdHPhm",
        "t3gmFg8l9vBA",
        "01pCwHID92y5",
        "77TMqlkM924z",
        "NQKnq5mhDv2X",
        "usSfwzo_D0at",
        "fQGpTgtk929Z",
        "HmchHmyMSo26",
        "Kyrq5e_G93Jk",
        "lVMfI4A9NdAn",
        "MOxZ_rFdNihv",
        "c7FbE5BwNwr3",
        "DlOgBxmCNzbW",
        "CvGRjGCRN1Fd",
        "bz81gcnD2fVB",
        "gAb9P9oInsZB",
        "2vmCjuhyoFqk",
        "fLpiIwMuo9hQ",
        "p5IihasmpOH5",
        "X6JjYiLJper1",
        "55kZ1y6mpvdI",
        "bCfUGlNkxpPD",
        "-1SN668ax9Sb",
        "y_6yNAplyQi3",
        "Zq44bY6nyoy7",
        "qdmeCx1myz7d",
        "lqbYKlPezAm6",
        "BSiW4QECzPP3",
        "xLX6AW97zWew",
        "LGxPVLkuztn3",
        "KbPg7gq20MT9",
        "VGYDOhFj0gU4",
        "CB7DVcV10stH",
        "7IHVseTX07Z2",
        "mlgBsQVW1lyO",
        "1chCAxxb1x-C",
        "quso2hfr190o",
        "-QM8B6qf2xws",
        "MQTpyraw3CTf",
        "NEsPtKh74nyt",
        "eDiMRj_V43AT",
        "Cj88Gd4d4-_E",
        "hVZvI0Jd5LQf",
        "LCQbRhLJ9ddK",
        "wXmK3JnUMwWB",
        "xJK6dLDaM-BY",
        "LhWu6JV2NKAb",
        "BZyiha0ANa2n",
        "otaV3o4oNjZe",
        "ilBBHG9kNxKc"
      ],
      "provenance": []
    },
    "kernelspec": {
      "display_name": "Python 3",
      "name": "python3"
    },
    "language_info": {
      "name": "python"
    }
  },
  "nbformat": 4,
  "nbformat_minor": 0
}